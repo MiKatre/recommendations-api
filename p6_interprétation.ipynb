{
  "nbformat": 4,
  "nbformat_minor": 0,
  "metadata": {
    "colab": {
      "name": "p6-interprétation.ipynb",
      "provenance": [],
      "collapsed_sections": [
        "SuM4veHtqSt3",
        "A55Mph8UvcR8",
        "FiAbljyluTel",
        "KYQgS4lNudZP"
      ],
      "include_colab_link": true
    },
    "kernelspec": {
      "name": "python3",
      "display_name": "Python 3"
    },
    "accelerator": "GPU"
  },
  "cells": [
    {
      "cell_type": "markdown",
      "metadata": {
        "id": "view-in-github",
        "colab_type": "text"
      },
      "source": [
        "<a href=\"https://colab.research.google.com/github/MiKatre/recommendations-api/blob/notebook-0/p6_interpr%C3%A9tation.ipynb\" target=\"_parent\"><img src=\"https://colab.research.google.com/assets/colab-badge.svg\" alt=\"Open In Colab\"/></a>"
      ]
    },
    {
      "cell_type": "code",
      "metadata": {
        "id": "t5vXu9xeoiYf",
        "colab_type": "code",
        "colab": {}
      },
      "source": [
        "from fastai.collab import *\n",
        "from fastai.tabular import *"
      ],
      "execution_count": 0,
      "outputs": []
    },
    {
      "cell_type": "code",
      "metadata": {
        "id": "GhMFE9ADos3o",
        "colab_type": "code",
        "outputId": "fe2c25b0-5ed1-4d02-eeec-04224fe55a87",
        "colab": {
          "base_uri": "https://localhost:8080/",
          "height": 51
        }
      },
      "source": [
        "  !curl -s https://course.fast.ai/setup/colab | bash"
      ],
      "execution_count": 0,
      "outputs": [
        {
          "output_type": "stream",
          "text": [
            "Updating fastai...\n",
            "Done.\n"
          ],
          "name": "stdout"
        }
      ]
    },
    {
      "cell_type": "code",
      "metadata": {
        "id": "G6tUu8nooth5",
        "colab_type": "code",
        "outputId": "5d1ece46-49cd-469b-9b14-ecb9364464ff",
        "colab": {
          "base_uri": "https://localhost:8080/",
          "height": 122
        }
      },
      "source": [
        "from google.colab import drive\n",
        "drive.mount('/content/gdrive', force_remount=True)\n",
        "root_dir = \"/content/gdrive/My Drive/\"\n",
        "base_dir = root_dir + 'cinetimes/'"
      ],
      "execution_count": 0,
      "outputs": [
        {
          "output_type": "stream",
          "text": [
            "Go to this URL in a browser: https://accounts.google.com/o/oauth2/auth?client_id=947318989803-6bn6qk8qdgf4n4g3pfee6491hc0brc4i.apps.googleusercontent.com&redirect_uri=urn%3Aietf%3Awg%3Aoauth%3A2.0%3Aoob&scope=email%20https%3A%2F%2Fwww.googleapis.com%2Fauth%2Fdocs.test%20https%3A%2F%2Fwww.googleapis.com%2Fauth%2Fdrive%20https%3A%2F%2Fwww.googleapis.com%2Fauth%2Fdrive.photos.readonly%20https%3A%2F%2Fwww.googleapis.com%2Fauth%2Fpeopleapi.readonly&response_type=code\n",
            "\n",
            "Enter your authorization code:\n",
            "··········\n",
            "Mounted at /content/gdrive\n"
          ],
          "name": "stdout"
        }
      ]
    },
    {
      "cell_type": "markdown",
      "metadata": {
        "id": "SuM4veHtqSt3",
        "colab_type": "text"
      },
      "source": [
        "## Fetch data"
      ]
    },
    {
      "cell_type": "markdown",
      "metadata": {
        "id": "A55Mph8UvcR8",
        "colab_type": "text"
      },
      "source": [
        "###### Set env"
      ]
    },
    {
      "cell_type": "code",
      "metadata": {
        "id": "Qm3XReTGvbsV",
        "colab_type": "code",
        "colab": {}
      },
      "source": [
        "#import os\n",
        "#os.environ['SQLALCHEMY_DATABASE_URL'] = \"\""
      ],
      "execution_count": 0,
      "outputs": []
    },
    {
      "cell_type": "markdown",
      "metadata": {
        "id": "FiAbljyluTel",
        "colab_type": "text"
      },
      "source": [
        "###### Movie lens 20M\n",
        "\n"
      ]
    },
    {
      "cell_type": "code",
      "metadata": {
        "id": "LQKQ2gq5o1-D",
        "colab_type": "code",
        "outputId": "25c99630-5a8e-4eeb-a8f1-a003a87eafd5",
        "colab": {
          "base_uri": "https://localhost:8080/",
          "height": 54
        }
      },
      "source": [
        "import urllib.request\n",
        "import zipfile\n",
        "\n",
        "url = 'http://files.grouplens.org/datasets/movielens/ml-20m.zip'\n",
        "path = Path(base_dir + 'data/')\n",
        "\n",
        "path.mkdir(parents=True, exist_ok=True)\n",
        "dest_zip = path/'ml-20m.zip'\n",
        "dest_unzip = path/'ml-20m'\n",
        "\n",
        "if not dest_unzip.exists():\n",
        "  print('Downloading and extracting files...')\n",
        "  urllib.request.urlretrieve(url, dest_zip)\n",
        "\n",
        "  with zipfile.ZipFile(dest_zip, 'r') as ref:\n",
        "    ref.extractall(path)\n",
        "\n",
        "  print('Removing zip file...')\n",
        "  dest_zip.unlink()\n",
        "  print('Done !')\n",
        "\n",
        "else:\n",
        "  print('Files already downloaded...')\n",
        "\n",
        "path = dest_unzip"
      ],
      "execution_count": 0,
      "outputs": [
        {
          "output_type": "stream",
          "text": [
            "Files already downloaded...\n"
          ],
          "name": "stdout"
        }
      ]
    },
    {
      "cell_type": "markdown",
      "metadata": {
        "id": "KYQgS4lNudZP",
        "colab_type": "text"
      },
      "source": [
        "###### Database"
      ]
    },
    {
      "cell_type": "code",
      "metadata": {
        "id": "1LZh1811uZTL",
        "colab_type": "code",
        "colab": {}
      },
      "source": [
        "# !pip install mysqlclient\n",
        "# from sqlalchemy import create_engine\n",
        "# from sqlalchemy.ext.declarative import declarative_base\n",
        "# from sqlalchemy.orm import sessionmaker"
      ],
      "execution_count": 0,
      "outputs": []
    },
    {
      "cell_type": "code",
      "metadata": {
        "id": "fMeENGkurLjG",
        "colab_type": "code",
        "colab": {}
      },
      "source": [
        "# SQLALCHEMY_DATABASE_URL=os.environ.get('SQLALCHEMY_DATABASE_URL')\n",
        "# engine = create_engine(SQLALCHEMY_DATABASE_URL)\n",
        "# Session = sessionmaker(autocommit=False, autoflush=False, bind=engine)\n",
        "# session = Session()"
      ],
      "execution_count": 0,
      "outputs": []
    },
    {
      "cell_type": "code",
      "metadata": {
        "id": "Q8peEcqOvOKC",
        "colab_type": "code",
        "colab": {}
      },
      "source": [
        ""
      ],
      "execution_count": 0,
      "outputs": []
    },
    {
      "cell_type": "markdown",
      "metadata": {
        "id": "Fdc7pEs8wVOK",
        "colab_type": "text"
      },
      "source": [
        "## Train the model"
      ]
    },
    {
      "cell_type": "code",
      "metadata": {
        "id": "ZuR1uEAkvVG8",
        "colab_type": "code",
        "colab": {}
      },
      "source": [
        "ratings = pd.read_csv(base_dir + 'cinetimes-dataset.csv')"
      ],
      "execution_count": 0,
      "outputs": []
    },
    {
      "cell_type": "markdown",
      "metadata": {
        "id": "nm7oCM4J0gXp",
        "colab_type": "text"
      },
      "source": [
        "Join the movie names according the imdbId in the dataset\n"
      ]
    },
    {
      "cell_type": "code",
      "metadata": {
        "id": "UWPtZTWoz3es",
        "colab_type": "code",
        "colab": {}
      },
      "source": [
        "def add_tt(movie_id):\n",
        "    return f\"tt{movie_id}\"\n",
        "\n",
        "external_ids = pd.read_csv(base_dir + 'data/ml-20m/links.csv', converters={'imdbId': str, 'tmdbId': str})\n",
        "movies = pd.read_csv(base_dir + 'data/ml-20m/movies.csv')\n",
        "external_ids['imdbId'] = external_ids['imdbId'].apply(add_tt)\n",
        "\n",
        "external_ids = external_ids.merge(movies, left_on='movieId', right_on='movieId')\n",
        "ratings = ratings.merge(external_ids, left_on='imdbId', right_on='imdbId')"
      ],
      "execution_count": 0,
      "outputs": []
    },
    {
      "cell_type": "code",
      "metadata": {
        "id": "BR0RwTNL8Vbl",
        "colab_type": "code",
        "outputId": "36fea598-ad4f-4314-c3b8-2ff3e90c0a03",
        "colab": {
          "base_uri": "https://localhost:8080/",
          "height": 204
        }
      },
      "source": [
        "ratings.head()"
      ],
      "execution_count": 0,
      "outputs": [
        {
          "output_type": "execute_result",
          "data": {
            "text/html": [
              "<div>\n",
              "<style scoped>\n",
              "    .dataframe tbody tr th:only-of-type {\n",
              "        vertical-align: middle;\n",
              "    }\n",
              "\n",
              "    .dataframe tbody tr th {\n",
              "        vertical-align: top;\n",
              "    }\n",
              "\n",
              "    .dataframe thead th {\n",
              "        text-align: right;\n",
              "    }\n",
              "</style>\n",
              "<table border=\"1\" class=\"dataframe\">\n",
              "  <thead>\n",
              "    <tr style=\"text-align: right;\">\n",
              "      <th></th>\n",
              "      <th>imdbId</th>\n",
              "      <th>rating</th>\n",
              "      <th>userId</th>\n",
              "      <th>movieId</th>\n",
              "      <th>tmdbId</th>\n",
              "      <th>title</th>\n",
              "      <th>genres</th>\n",
              "    </tr>\n",
              "  </thead>\n",
              "  <tbody>\n",
              "    <tr>\n",
              "      <th>0</th>\n",
              "      <td>tt0113497</td>\n",
              "      <td>3.5</td>\n",
              "      <td>9999991</td>\n",
              "      <td>2</td>\n",
              "      <td>8844</td>\n",
              "      <td>Jumanji (1995)</td>\n",
              "      <td>Adventure|Children|Fantasy</td>\n",
              "    </tr>\n",
              "    <tr>\n",
              "      <th>1</th>\n",
              "      <td>tt0113497</td>\n",
              "      <td>3.0</td>\n",
              "      <td>9999995</td>\n",
              "      <td>2</td>\n",
              "      <td>8844</td>\n",
              "      <td>Jumanji (1995)</td>\n",
              "      <td>Adventure|Children|Fantasy</td>\n",
              "    </tr>\n",
              "    <tr>\n",
              "      <th>2</th>\n",
              "      <td>tt0113497</td>\n",
              "      <td>3.0</td>\n",
              "      <td>99999913</td>\n",
              "      <td>2</td>\n",
              "      <td>8844</td>\n",
              "      <td>Jumanji (1995)</td>\n",
              "      <td>Adventure|Children|Fantasy</td>\n",
              "    </tr>\n",
              "    <tr>\n",
              "      <th>3</th>\n",
              "      <td>tt0113497</td>\n",
              "      <td>3.0</td>\n",
              "      <td>99999929</td>\n",
              "      <td>2</td>\n",
              "      <td>8844</td>\n",
              "      <td>Jumanji (1995)</td>\n",
              "      <td>Adventure|Children|Fantasy</td>\n",
              "    </tr>\n",
              "    <tr>\n",
              "      <th>4</th>\n",
              "      <td>tt0113497</td>\n",
              "      <td>3.0</td>\n",
              "      <td>99999934</td>\n",
              "      <td>2</td>\n",
              "      <td>8844</td>\n",
              "      <td>Jumanji (1995)</td>\n",
              "      <td>Adventure|Children|Fantasy</td>\n",
              "    </tr>\n",
              "  </tbody>\n",
              "</table>\n",
              "</div>"
            ],
            "text/plain": [
              "      imdbId  rating  ...           title                      genres\n",
              "0  tt0113497     3.5  ...  Jumanji (1995)  Adventure|Children|Fantasy\n",
              "1  tt0113497     3.0  ...  Jumanji (1995)  Adventure|Children|Fantasy\n",
              "2  tt0113497     3.0  ...  Jumanji (1995)  Adventure|Children|Fantasy\n",
              "3  tt0113497     3.0  ...  Jumanji (1995)  Adventure|Children|Fantasy\n",
              "4  tt0113497     3.0  ...  Jumanji (1995)  Adventure|Children|Fantasy\n",
              "\n",
              "[5 rows x 7 columns]"
            ]
          },
          "metadata": {
            "tags": []
          },
          "execution_count": 6
        }
      ]
    },
    {
      "cell_type": "code",
      "metadata": {
        "id": "GR2SaAtVwUC6",
        "colab_type": "code",
        "outputId": "49b28f09-c872-4964-e8ba-43de6164716d",
        "colab": {
          "base_uri": "https://localhost:8080/",
          "height": 204
        }
      },
      "source": [
        "# Change column order to fit CollabDataBunch\n",
        "ratings = ratings[['userId', 'imdbId','rating', 'title']]\n",
        "ratings.head()"
      ],
      "execution_count": 0,
      "outputs": [
        {
          "output_type": "execute_result",
          "data": {
            "text/html": [
              "<div>\n",
              "<style scoped>\n",
              "    .dataframe tbody tr th:only-of-type {\n",
              "        vertical-align: middle;\n",
              "    }\n",
              "\n",
              "    .dataframe tbody tr th {\n",
              "        vertical-align: top;\n",
              "    }\n",
              "\n",
              "    .dataframe thead th {\n",
              "        text-align: right;\n",
              "    }\n",
              "</style>\n",
              "<table border=\"1\" class=\"dataframe\">\n",
              "  <thead>\n",
              "    <tr style=\"text-align: right;\">\n",
              "      <th></th>\n",
              "      <th>userId</th>\n",
              "      <th>imdbId</th>\n",
              "      <th>rating</th>\n",
              "      <th>title</th>\n",
              "    </tr>\n",
              "  </thead>\n",
              "  <tbody>\n",
              "    <tr>\n",
              "      <th>0</th>\n",
              "      <td>9999991</td>\n",
              "      <td>tt0113497</td>\n",
              "      <td>3.5</td>\n",
              "      <td>Jumanji (1995)</td>\n",
              "    </tr>\n",
              "    <tr>\n",
              "      <th>1</th>\n",
              "      <td>9999995</td>\n",
              "      <td>tt0113497</td>\n",
              "      <td>3.0</td>\n",
              "      <td>Jumanji (1995)</td>\n",
              "    </tr>\n",
              "    <tr>\n",
              "      <th>2</th>\n",
              "      <td>99999913</td>\n",
              "      <td>tt0113497</td>\n",
              "      <td>3.0</td>\n",
              "      <td>Jumanji (1995)</td>\n",
              "    </tr>\n",
              "    <tr>\n",
              "      <th>3</th>\n",
              "      <td>99999929</td>\n",
              "      <td>tt0113497</td>\n",
              "      <td>3.0</td>\n",
              "      <td>Jumanji (1995)</td>\n",
              "    </tr>\n",
              "    <tr>\n",
              "      <th>4</th>\n",
              "      <td>99999934</td>\n",
              "      <td>tt0113497</td>\n",
              "      <td>3.0</td>\n",
              "      <td>Jumanji (1995)</td>\n",
              "    </tr>\n",
              "  </tbody>\n",
              "</table>\n",
              "</div>"
            ],
            "text/plain": [
              "     userId     imdbId  rating           title\n",
              "0   9999991  tt0113497     3.5  Jumanji (1995)\n",
              "1   9999995  tt0113497     3.0  Jumanji (1995)\n",
              "2  99999913  tt0113497     3.0  Jumanji (1995)\n",
              "3  99999929  tt0113497     3.0  Jumanji (1995)\n",
              "4  99999934  tt0113497     3.0  Jumanji (1995)"
            ]
          },
          "metadata": {
            "tags": []
          },
          "execution_count": 7
        }
      ]
    },
    {
      "cell_type": "code",
      "metadata": {
        "id": "JcUDxoKv8sYB",
        "colab_type": "code",
        "colab": {}
      },
      "source": [
        "# Comment if you want the full dataset\n",
        "#smaller_ratings = ratings[10000000:]\n",
        "# smaller_ratings = ratings[-5000000:] # Last 5M\n",
        "# ratings = smaller_ratings\n",
        "# ratings.tail()"
      ],
      "execution_count": 0,
      "outputs": []
    },
    {
      "cell_type": "code",
      "metadata": {
        "id": "JWd2JYqBx6EM",
        "colab_type": "code",
        "outputId": "b8876a92-dc4e-4bc4-c738-8c46fd0c3d3c",
        "colab": {
          "base_uri": "https://localhost:8080/",
          "height": 34
        }
      },
      "source": [
        "len(ratings)"
      ],
      "execution_count": 0,
      "outputs": [
        {
          "output_type": "execute_result",
          "data": {
            "text/plain": [
              "5000039"
            ]
          },
          "metadata": {
            "tags": []
          },
          "execution_count": 18
        }
      ]
    },
    {
      "cell_type": "code",
      "metadata": {
        "id": "c1VhsDu5x6c8",
        "colab_type": "code",
        "colab": {}
      },
      "source": [
        "data = CollabDataBunch.from_df(ratings, seed=42, valid_pct=0.1, bs=128, item_name='title')"
      ],
      "execution_count": 0,
      "outputs": []
    },
    {
      "cell_type": "code",
      "metadata": {
        "id": "z1fSEg45x8rU",
        "colab_type": "code",
        "outputId": "857a588f-ddff-4843-97ab-c4b35e853fdc",
        "colab": {
          "base_uri": "https://localhost:8080/",
          "height": 204
        }
      },
      "source": [
        "data.show_batch()"
      ],
      "execution_count": 0,
      "outputs": [
        {
          "output_type": "display_data",
          "data": {
            "text/html": [
              "<table border=\"1\" class=\"dataframe\">\n",
              "  <thead>\n",
              "    <tr style=\"text-align: right;\">\n",
              "      <th>userId</th>\n",
              "      <th>title</th>\n",
              "      <th>target</th>\n",
              "    </tr>\n",
              "  </thead>\n",
              "  <tbody>\n",
              "    <tr>\n",
              "      <td>99999920453</td>\n",
              "      <td>Rudy (1993)</td>\n",
              "      <td>4.0</td>\n",
              "    </tr>\n",
              "    <tr>\n",
              "      <td>99999921543</td>\n",
              "      <td>King of Comedy, The (1983)</td>\n",
              "      <td>3.5</td>\n",
              "    </tr>\n",
              "    <tr>\n",
              "      <td>99999925235</td>\n",
              "      <td>Piano, The (1993)</td>\n",
              "      <td>3.0</td>\n",
              "    </tr>\n",
              "    <tr>\n",
              "      <td>99999916984</td>\n",
              "      <td>Birdcage, The (1996)</td>\n",
              "      <td>4.0</td>\n",
              "    </tr>\n",
              "    <tr>\n",
              "      <td>9999998647</td>\n",
              "      <td>Texas Chainsaw Massacre: The Next Generation (a.k.a. The Return of the Texas Chainsaw Massacre) (1994)</td>\n",
              "      <td>2.0</td>\n",
              "    </tr>\n",
              "  </tbody>\n",
              "</table>"
            ],
            "text/plain": [
              "<IPython.core.display.HTML object>"
            ]
          },
          "metadata": {
            "tags": []
          }
        }
      ]
    },
    {
      "cell_type": "code",
      "metadata": {
        "id": "H4tu0SrgyK2G",
        "colab_type": "code",
        "colab": {}
      },
      "source": [
        "y_range = [0,5.5]"
      ],
      "execution_count": 0,
      "outputs": []
    },
    {
      "cell_type": "code",
      "metadata": {
        "id": "o509PpQpyOxI",
        "colab_type": "code",
        "colab": {}
      },
      "source": [
        "learn = collab_learner(data, n_factors=40, y_range=y_range, wd=1e-1)"
      ],
      "execution_count": 0,
      "outputs": []
    },
    {
      "cell_type": "code",
      "metadata": {
        "id": "HinaoWe6yR0-",
        "colab_type": "code",
        "outputId": "fa1edc0f-2b90-495c-f074-c8a1fdcb4c2e",
        "colab": {
          "base_uri": "https://localhost:8080/",
          "height": 296
        }
      },
      "source": [
        "learn.lr_find()\n",
        "learn.recorder.plot(skip_end=15)"
      ],
      "execution_count": 0,
      "outputs": [
        {
          "output_type": "display_data",
          "data": {
            "text/html": [
              ""
            ],
            "text/plain": [
              "<IPython.core.display.HTML object>"
            ]
          },
          "metadata": {
            "tags": []
          }
        },
        {
          "output_type": "stream",
          "text": [
            "LR Finder is complete, type {learner_name}.recorder.plot() to see the graph.\n"
          ],
          "name": "stdout"
        },
        {
          "output_type": "display_data",
          "data": {
            "image/png": "[encoded data removed]",
            "text/plain": [
              "<Figure size 432x288 with 1 Axes>"
            ]
          },
          "metadata": {
            "tags": []
          }
        }
      ]
    },
    {
      "cell_type": "code",
      "metadata": {
        "id": "U1B4x_0HySQ_",
        "colab_type": "code",
        "outputId": "854178da-39e9-42ed-a7a7-c85361b7ff33",
        "colab": {
          "base_uri": "https://localhost:8080/",
          "height": 204
        }
      },
      "source": [
        "learn.fit_one_cycle(5, 5e-3)"
      ],
      "execution_count": 0,
      "outputs": [
        {
          "output_type": "display_data",
          "data": {
            "text/html": [
              "<table border=\"1\" class=\"dataframe\">\n",
              "  <thead>\n",
              "    <tr style=\"text-align: left;\">\n",
              "      <th>epoch</th>\n",
              "      <th>train_loss</th>\n",
              "      <th>valid_loss</th>\n",
              "      <th>time</th>\n",
              "    </tr>\n",
              "  </thead>\n",
              "  <tbody>\n",
              "    <tr>\n",
              "      <td>0</td>\n",
              "      <td>0.832669</td>\n",
              "      <td>0.833946</td>\n",
              "      <td>08:01</td>\n",
              "    </tr>\n",
              "    <tr>\n",
              "      <td>1</td>\n",
              "      <td>0.855373</td>\n",
              "      <td>0.841981</td>\n",
              "      <td>08:02</td>\n",
              "    </tr>\n",
              "    <tr>\n",
              "      <td>2</td>\n",
              "      <td>0.781920</td>\n",
              "      <td>0.806362</td>\n",
              "      <td>08:03</td>\n",
              "    </tr>\n",
              "    <tr>\n",
              "      <td>3</td>\n",
              "      <td>0.763439</td>\n",
              "      <td>0.753817</td>\n",
              "      <td>08:05</td>\n",
              "    </tr>\n",
              "    <tr>\n",
              "      <td>4</td>\n",
              "      <td>0.712153</td>\n",
              "      <td>0.730180</td>\n",
              "      <td>08:06</td>\n",
              "    </tr>\n",
              "  </tbody>\n",
              "</table>"
            ],
            "text/plain": [
              "<IPython.core.display.HTML object>"
            ]
          },
          "metadata": {
            "tags": []
          }
        }
      ]
    },
    {
      "cell_type": "code",
      "metadata": {
        "id": "fY6sKHcWXj0z",
        "colab_type": "code",
        "colab": {}
      },
      "source": [
        "learn.save('testmodel')"
      ],
      "execution_count": 0,
      "outputs": []
    },
    {
      "cell_type": "code",
      "metadata": {
        "id": "fP3H5az_yb0A",
        "colab_type": "code",
        "colab": {}
      },
      "source": [
        "learn.save(base_dir + 'testmodel')"
      ],
      "execution_count": 0,
      "outputs": []
    },
    {
      "cell_type": "code",
      "metadata": {
        "id": "lv2-v5QQTAFx",
        "colab_type": "code",
        "colab": {}
      },
      "source": [
        "# Export for production\n",
        "# learn.export(base_dir + '/prodmodel-2')"
      ],
      "execution_count": 0,
      "outputs": []
    },
    {
      "cell_type": "code",
      "metadata": {
        "id": "0E284M1yxyFg",
        "colab_type": "code",
        "outputId": "bf6ee8cb-7b41-44ac-ed5d-4ed8d3b6b1a7",
        "colab": {
          "base_uri": "https://localhost:8080/",
          "height": 496
        }
      },
      "source": [
        "learn.load(base_dir + '/testmodel')\n",
        "#learn = load_learner(base_dir, 'prodmodel.pth')"
      ],
      "execution_count": 0,
      "outputs": [
        {
          "output_type": "execute_result",
          "data": {
            "text/plain": [
              "CollabLearner(data=TabularDataBunch;\n",
              "\n",
              "Train: LabelList (4500036 items)\n",
              "x: CollabList\n",
              "userId 9999991; title Jumanji (1995); ,userId 9999995; title Jumanji (1995); ,userId 99999913; title Jumanji (1995); ,userId 99999929; title Jumanji (1995); ,userId 99999934; title Jumanji (1995); \n",
              "y: FloatList\n",
              "3.5,3.0,3.0,3.0,3.0\n",
              "Path: .;\n",
              "\n",
              "Valid: LabelList (500003 items)\n",
              "x: CollabList\n",
              "userId 9999993365; title 28 Days Later (2002); ,userId 99999929464; title Donnie Darko (2001); ,userId 9999991244; title Austin Powers in Goldmember (2002); ,userId 99999910793; title Legends of the Fall (1994); ,userId 99999930825; title My Own Private Idaho (1991); \n",
              "y: FloatList\n",
              "3.5,4.5,4.0,3.0,3.0\n",
              "Path: .;\n",
              "\n",
              "Test: None, model=EmbeddingDotBias(\n",
              "  (u_weight): Embedding(34401, 40)\n",
              "  (i_weight): Embedding(20032, 40)\n",
              "  (u_bias): Embedding(34401, 1)\n",
              "  (i_bias): Embedding(20032, 1)\n",
              "), opt_func=functools.partial(<class 'torch.optim.adam.Adam'>, betas=(0.9, 0.99)), loss_func=FlattenedLoss of MSELoss(), metrics=[], true_wd=True, bn_wd=True, wd=0.1, train_bn=True, path=PosixPath('.'), model_dir='models', callback_fns=[functools.partial(<class 'fastai.basic_train.Recorder'>, add_time=True, silent=False)], callbacks=[], layer_groups=[Sequential(\n",
              "  (0): Embedding(34401, 40)\n",
              "  (1): Embedding(20032, 40)\n",
              "  (2): Embedding(34401, 1)\n",
              "  (3): Embedding(20032, 1)\n",
              ")], add_time=True, silent=False)"
            ]
          },
          "metadata": {
            "tags": []
          },
          "execution_count": 27
        }
      ]
    },
    {
      "cell_type": "markdown",
      "metadata": {
        "id": "4D2l1kZCBZiU",
        "colab_type": "text"
      },
      "source": [
        "## Prédictions"
      ]
    },
    {
      "cell_type": "code",
      "metadata": {
        "id": "ohCmwsNcyCsE",
        "colab_type": "code",
        "outputId": "b3fe1b9e-6e95-48c7-88f2-6a7ca9787c2a",
        "colab": {
          "base_uri": "https://localhost:8080/",
          "height": 119
        }
      },
      "source": [
        "# # Only keep my users\n",
        "# all_users = ratings.loc[ratings['userId'] < 999999]\n",
        "\n",
        "# # Get array of users id\n",
        "# my_users = all_users['userId'].unique()\n",
        "\n",
        "# # Get array of all movies id\n",
        "# all_movie_ids = ratings['imdbId'].unique()\n",
        "\n",
        "# data = []\n",
        "# for user_id in my_users:\n",
        "#   # Get list of all movies rated by the userId\n",
        "#   user_rated_rows = ratings.loc[ratings['userId'] == user_id]\n",
        "#   user_rated_ids = user_rated_rows['imdbId'].unique()\n",
        "  \n",
        "#   # Remove the movie_ids that user_x has rated from the list of all movie ids\n",
        "#   movie_ids_to_pred = np.setdiff1d(all_movie_ids, user_rated_ids)\n",
        "  \n",
        "#   # Create a dataframe with movies not rated by user\n",
        "  \n",
        "#   for movie_id in movie_ids_to_pred:\n",
        "#     data.append({\n",
        "#         'userId': user_id,\n",
        "#         'imdbId': movie_id,\n",
        "#         'rating': None,\n",
        "#     })\n",
        "  \n",
        "# df_to_predict = pd.DataFrame(data=data)\n",
        "\n",
        "# print(df_to_predict.head())\n"
      ],
      "execution_count": 0,
      "outputs": [
        {
          "output_type": "stream",
          "text": [
            "   userId     imdbId rating\n",
            "0    1162  tt0000005   None\n",
            "1    1162  tt0000010   None\n",
            "2    1162  tt0000012   None\n",
            "3    1162  tt0000014   None\n",
            "4    1162  tt0000417   None\n"
          ],
          "name": "stdout"
        }
      ]
    },
    {
      "cell_type": "code",
      "metadata": {
        "id": "gX7te8pXjn_n",
        "colab_type": "code",
        "outputId": "67f518d4-2e3b-43a1-d0d4-14329414637e",
        "colab": {
          "base_uri": "https://localhost:8080/",
          "height": 34
        }
      },
      "source": [
        "# my_users"
      ],
      "execution_count": 0,
      "outputs": [
        {
          "output_type": "execute_result",
          "data": {
            "text/plain": [
              "array([1162, 1283, 1161, 1406, 1405])"
            ]
          },
          "metadata": {
            "tags": []
          },
          "execution_count": 25
        }
      ]
    },
    {
      "cell_type": "code",
      "metadata": {
        "id": "7ODZJPXSyEFk",
        "colab_type": "code",
        "outputId": "db861958-d6e4-4353-bde8-c08f0b80ff4a",
        "colab": {
          "base_uri": "https://localhost:8080/",
          "height": 136
        }
      },
      "source": [
        "# # Predict\n",
        "# predictions = []\n",
        "# for idx in range(len(df_to_predict)):\n",
        "#   row = df_to_predict.iloc[idx]\n",
        "#   movie_id = row['imdbId']\n",
        "#   user_id = row['userId']\n",
        "#   y, pred, raw_pred = learn.predict(row)\n",
        "#   prediction = {'userId': user_id, 'movie_id': movie_id, 'prediction': pred.item()}\n",
        "#   predictions.append(prediction)\n",
        "#   if pred.item() > 4.0: \n",
        "#     print(movie_id, pred.item())"
      ],
      "execution_count": 0,
      "outputs": [
        {
          "output_type": "stream",
          "text": [
            "tt0068646 4.064924240112305\n",
            "tt0102926 4.070297718048096\n",
            "tt0111161 4.37367057800293\n",
            "tt0114814 4.1719818115234375\n",
            "tt0111161 4.012946128845215\n",
            "tt0111161 4.081221580505371\n",
            "tt0111161 4.0153093338012695\n"
          ],
          "name": "stdout"
        }
      ]
    },
    {
      "cell_type": "code",
      "metadata": {
        "id": "JR_rjAyNGJM_",
        "colab_type": "code",
        "colab": {}
      },
      "source": [
        "# # Sort predictions\n",
        "# full_predictions = pd.DataFrame(predictions)\n",
        "# sorted_predictions = full_predictions.sort_values(by='prediction', ascending=False)"
      ],
      "execution_count": 0,
      "outputs": []
    },
    {
      "cell_type": "code",
      "metadata": {
        "id": "IOYzmaJwHQ9H",
        "colab_type": "code",
        "outputId": "ae5bc87a-af1e-4e19-985a-60173b6fe2d9",
        "colab": {
          "base_uri": "https://localhost:8080/",
          "height": 419
        }
      },
      "source": [
        "# sorted_predictions"
      ],
      "execution_count": 0,
      "outputs": [
        {
          "output_type": "execute_result",
          "data": {
            "text/html": [
              "<div>\n",
              "<style scoped>\n",
              "    .dataframe tbody tr th:only-of-type {\n",
              "        vertical-align: middle;\n",
              "    }\n",
              "\n",
              "    .dataframe tbody tr th {\n",
              "        vertical-align: top;\n",
              "    }\n",
              "\n",
              "    .dataframe thead th {\n",
              "        text-align: right;\n",
              "    }\n",
              "</style>\n",
              "<table border=\"1\" class=\"dataframe\">\n",
              "  <thead>\n",
              "    <tr style=\"text-align: right;\">\n",
              "      <th></th>\n",
              "      <th>userId</th>\n",
              "      <th>movie_id</th>\n",
              "      <th>prediction</th>\n",
              "    </tr>\n",
              "  </thead>\n",
              "  <tbody>\n",
              "    <tr>\n",
              "      <th>8363</th>\n",
              "      <td>1162</td>\n",
              "      <td>tt0111161</td>\n",
              "      <td>4.373671</td>\n",
              "    </tr>\n",
              "    <tr>\n",
              "      <th>8822</th>\n",
              "      <td>1162</td>\n",
              "      <td>tt0114814</td>\n",
              "      <td>4.171982</td>\n",
              "    </tr>\n",
              "    <tr>\n",
              "      <th>49154</th>\n",
              "      <td>1161</td>\n",
              "      <td>tt0111161</td>\n",
              "      <td>4.081222</td>\n",
              "    </tr>\n",
              "    <tr>\n",
              "      <th>7428</th>\n",
              "      <td>1162</td>\n",
              "      <td>tt0102926</td>\n",
              "      <td>4.070298</td>\n",
              "    </tr>\n",
              "    <tr>\n",
              "      <th>3831</th>\n",
              "      <td>1162</td>\n",
              "      <td>tt0068646</td>\n",
              "      <td>4.064924</td>\n",
              "    </tr>\n",
              "    <tr>\n",
              "      <th>...</th>\n",
              "      <td>...</td>\n",
              "      <td>...</td>\n",
              "      <td>...</td>\n",
              "    </tr>\n",
              "    <tr>\n",
              "      <th>9676</th>\n",
              "      <td>1162</td>\n",
              "      <td>tt0120185</td>\n",
              "      <td>2.212290</td>\n",
              "    </tr>\n",
              "    <tr>\n",
              "      <th>31196</th>\n",
              "      <td>1283</td>\n",
              "      <td>tt0185183</td>\n",
              "      <td>2.208998</td>\n",
              "    </tr>\n",
              "    <tr>\n",
              "      <th>9325</th>\n",
              "      <td>1162</td>\n",
              "      <td>tt0118665</td>\n",
              "      <td>2.188134</td>\n",
              "    </tr>\n",
              "    <tr>\n",
              "      <th>92401</th>\n",
              "      <td>1405</td>\n",
              "      <td>tt0185183</td>\n",
              "      <td>2.144603</td>\n",
              "    </tr>\n",
              "    <tr>\n",
              "      <th>10801</th>\n",
              "      <td>1162</td>\n",
              "      <td>tt0185183</td>\n",
              "      <td>2.066579</td>\n",
              "    </tr>\n",
              "  </tbody>\n",
              "</table>\n",
              "<p>101986 rows × 3 columns</p>\n",
              "</div>"
            ],
            "text/plain": [
              "       userId   movie_id  prediction\n",
              "8363     1162  tt0111161    4.373671\n",
              "8822     1162  tt0114814    4.171982\n",
              "49154    1161  tt0111161    4.081222\n",
              "7428     1162  tt0102926    4.070298\n",
              "3831     1162  tt0068646    4.064924\n",
              "...       ...        ...         ...\n",
              "9676     1162  tt0120185    2.212290\n",
              "31196    1283  tt0185183    2.208998\n",
              "9325     1162  tt0118665    2.188134\n",
              "92401    1405  tt0185183    2.144603\n",
              "10801    1162  tt0185183    2.066579\n",
              "\n",
              "[101986 rows x 3 columns]"
            ]
          },
          "metadata": {
            "tags": []
          },
          "execution_count": 28
        }
      ]
    },
    {
      "cell_type": "markdown",
      "metadata": {
        "id": "RIk8PukrHlYF",
        "colab_type": "text"
      },
      "source": [
        "Store predictions"
      ]
    },
    {
      "cell_type": "code",
      "metadata": {
        "id": "2ckIH-qKTOIi",
        "colab_type": "code",
        "colab": {}
      },
      "source": [
        "# TO ERASE. Uncomment if you lost your mind or you know what you are doing (load my previous predictions)\n",
        "# sorted_predictions = pd.read_csv(root_dir + '/predictions.csv')"
      ],
      "execution_count": 0,
      "outputs": []
    },
    {
      "cell_type": "code",
      "metadata": {
        "id": "bpMsZFOENfDX",
        "colab_type": "code",
        "colab": {}
      },
      "source": [
        "# sorted_filtered_predictions = sorted_predictions[0:0]\n",
        "# for user_id in my_users:\n",
        "#   this_user_df = sorted_predictions.loc[sorted_predictions['userId'] == user_id]\n",
        "#   # Limit to the 500 first recommendations\n",
        "#   this_user_df = this_user_df[0:500]\n",
        "#   sorted_filtered_predictions = sorted_filtered_predictions.append(this_user_df)"
      ],
      "execution_count": 0,
      "outputs": []
    },
    {
      "cell_type": "code",
      "metadata": {
        "id": "weg13ANkUEEX",
        "colab_type": "code",
        "outputId": "add94fb0-9cf7-4b70-e90d-afb620b79119",
        "colab": {
          "base_uri": "https://localhost:8080/",
          "height": 34
        }
      },
      "source": [
        "# len(sorted_filtered_predictions)"
      ],
      "execution_count": 0,
      "outputs": [
        {
          "output_type": "execute_result",
          "data": {
            "text/plain": [
              "2500"
            ]
          },
          "metadata": {
            "tags": []
          },
          "execution_count": 53
        }
      ]
    },
    {
      "cell_type": "code",
      "metadata": {
        "id": "X0021NASHXHK",
        "colab_type": "code",
        "colab": {}
      },
      "source": [
        "# sorted_filtered_predictions.to_csv(index=False, path_or_buf=root_dir + '/predictions.csv')"
      ],
      "execution_count": 0,
      "outputs": []
    },
    {
      "cell_type": "code",
      "metadata": {
        "id": "nyB6hyjD8-z4",
        "colab_type": "code",
        "colab": {}
      },
      "source": [
        ""
      ],
      "execution_count": 0,
      "outputs": []
    },
    {
      "cell_type": "markdown",
      "metadata": {
        "id": "iPBfwKa55KJ0",
        "colab_type": "text"
      },
      "source": [
        "## Interprétation"
      ]
    },
    {
      "cell_type": "code",
      "metadata": {
        "id": "7ox_B03X5MnD",
        "colab_type": "code",
        "outputId": "4df19516-0328-4552-cf9e-84dffd5cd2e8",
        "colab": {
          "base_uri": "https://localhost:8080/",
          "height": 1000
        }
      },
      "source": [
        "g = ratings.groupby('title')['rating'].count()\n",
        "top_movies = g.sort_values(ascending=False).index.values[:1000]\n",
        "top_movies[:10]\n",
        "learn.get_idx(arr=top_movies, is_item=True)"
      ],
      "execution_count": 0,
      "outputs": [
        {
          "output_type": "execute_result",
          "data": {
            "text/plain": [
              "tensor([14194,  6561, 15694, 15859,  9570, 16542,  2635, 17369, 11440, 15348,\n",
              "        18117,  6791,  1076, 16544,  8947, 18671,  1646, 16543,   817, 18371,\n",
              "        14374,  6085,  4393, 18306, 15552,  1450, 16379,   617,  7216,  6225,\n",
              "        15976, 10530,   423, 10766, 15288, 11796, 11555,  1758, 11398, 17372,\n",
              "        10768,  4936, 12110, 14006,  7145, 11933, 14058,  1649,  5435, 17944,\n",
              "        18407,  1396,  5391, 15810,  7549, 16555,  8957, 10767, 14906,   665,\n",
              "         4934,  2240, 11537, 13066, 16539,  7048,  7025,  7283,  3686, 16041,\n",
              "         7341, 19503,  8258,  6599,  6219,   682,  9065, 14643, 19080,  7217,\n",
              "         1823, 19770,  9978,  7363,  3740, 16533, 13254, 10996, 13766,  6305,\n",
              "          135,  4219,  3711,  3697, 12494, 17284, 18313, 15647, 14382,  1327,\n",
              "        17657,   806,  3177,  7942, 18153,  6268,  7005, 16401, 12910, 11922,\n",
              "        11727, 12447,  4182,  5241, 19614, 15739,  3691,   850, 19325,  1074,\n",
              "         6194,   837, 18118,  5777,  2121,  9363,  2765,  9547,  9334,  9733,\n",
              "         1326,  6795, 19277,  1748,  1193, 19387, 10274,  5538,  8958,  8549,\n",
              "         2648,  7507,  1135,  2035,  4586, 15508, 16505,  4453, 18078,   424,\n",
              "        11935,  4592, 14324,   784, 12950, 12650, 18049,  2855,  2550,  8942,\n",
              "         3963,  1791,  2398, 12884,  1452, 14173,  6334,  1451, 16532,  1986,\n",
              "        12075, 12877, 13676,  4499,  2245,  3197,  1647,  6937,  9734,  8898,\n",
              "         5159,   605,  5962,   756,   459,  4769,  3608,  7763, 10436,  3233,\n",
              "        16147, 19253,   858, 10378, 14478,  3186, 16127,   407,  7829, 16321,\n",
              "         7401, 11368, 11447, 11438, 12143, 13700, 10407, 15066,  3433,  4221,\n",
              "        18136,  5498, 16540, 15382,  8293, 17764, 10322,  5098, 16526, 11798,\n",
              "        15233, 16402,  4935, 13809,  3362,  3696,  5734, 10817, 15915, 19775,\n",
              "         8114,  5738,  7445,  2924, 12781, 11518, 16566,  6796,  6882, 14393,\n",
              "         5695, 18633,  1021,  3489, 18319, 18982, 10657, 17967, 18308, 16668,\n",
              "        19880,  6205, 16965, 14922,  3939, 13981, 18020, 10809, 15811,  9521,\n",
              "        14635,  7346,  1948,  7822,  5299,  7547, 18675, 14878,  5937,  2979,\n",
              "        18581, 10585,  5691, 12396,   597,  3715, 14888,  2637,  7296,  4781,\n",
              "         3903, 11383, 14419,  8929, 18779,  9233,  4812, 12119, 16307,  1104,\n",
              "         6866, 18506, 14924,  5567, 16424, 15097, 17190, 12249,  3379,  3920,\n",
              "        16375, 13828,  2494,  7828, 16055,   685,  2552,  8357, 14957,  5882,\n",
              "         2475, 16047, 19146, 10099, 16528, 10379, 19102,    65, 15129, 13841,\n",
              "        13495,  6742,  3631,  3534, 11397,  1650, 13802, 14869,  2021,  3623,\n",
              "        17827,  7560,  7169,  2709,  1143,  3191, 13744, 15030, 12837, 10999,\n",
              "        13673,  5003,  9461, 18916, 10244,  3190, 11162, 10204, 16128, 16541,\n",
              "         2556, 11439, 16165,  6211,   167,  6051,  4256,  6132,  6683,  4195,\n",
              "         9151, 17815, 18980, 17643, 10499, 15693,  2715,  5865,  4725, 10589,\n",
              "        18025, 15060,  1469,  8730,  4440,  6317,  4869, 12183, 17917,  9290,\n",
              "         3996, 12038,  2238, 16429, 19768, 17780,  7326, 15565, 13955, 11112,\n",
              "        14828,    34, 13352, 16348,   350, 14026, 13996,  8141, 19865,  7285,\n",
              "         8498,  7523,  7456, 12484, 12679,   995, 19477,  2127,   681, 16531,\n",
              "         1625,   202,  7945, 19605, 16373, 16206,  2553,  5158,  4979, 15414,\n",
              "        16527,   535,  3761,  2255, 15857,  4734, 13697,  3954,  9565, 12695,\n",
              "         9845, 15318, 18024, 17927, 14600, 11987, 10166,   508,  7368,  8309,\n",
              "        18924,  1946,  2170, 10615,  3506,  8536, 12231,  1056,  5249, 12514,\n",
              "        15931,  1911, 19498,  4012, 13214, 18275, 16341, 10027,  9562,  7825,\n",
              "         9308,  8727, 10259, 14976,  6454,  7218,  8723,  6890, 12228, 13604,\n",
              "        12258, 16537, 14367,  1351,  6419,  2649, 11556,  2555, 14796,  2714,\n",
              "          231, 17086, 14063,  2609,  6907,   457,   392,  7295,  6118,  2469,\n",
              "        13764,  8982,  6191,  9238, 15093,  4412, 16819, 11663, 13696, 11768,\n",
              "        18637, 11742, 12131, 19501, 16071, 15357, 13888,  2390,  1857, 11760,\n",
              "        11700,  4111,  8905,  3079, 13576, 16752,  2822,  3587,  5398, 11266,\n",
              "        15300,  3457, 18135,  1643,  5394, 11048,  9556,  5595, 10293,  6712,\n",
              "        17475, 16032,  3579,  7222, 13493,  9024,  2011, 14848, 17894,  1763,\n",
              "        17956,  3134,   918, 10380, 10381,  5764, 14436,  5124, 10841, 11936,\n",
              "        15329,  4102, 17716,  8308,  2982,  1325, 19243,  3160, 12474,    45,\n",
              "        17370,  5985, 13803, 16950,  2105,   859,  9144,  3428,  7176,  2087,\n",
              "        19203,  4757,  3636, 10715, 10605, 19704, 15975, 12375,   611,  6678,\n",
              "        11160,  4234,   851,  8367, 15735, 14855,  5721, 17711,  5353,  7049,\n",
              "        17438, 14474, 18727,  9641, 18527, 13500, 16534, 13519,   460, 18981,\n",
              "        12634,  6660,  6154, 15073,  3271,  9997,  7815, 13245,  4559, 16966,\n",
              "        14972, 11273, 12364, 13530, 15165,  4442,  5623, 16818,  5028, 18046,\n",
              "        12127,  2491,  2870, 18152,  3795, 12136,  6689, 15528,  5763,  4072,\n",
              "         2586, 13962, 14785,  5843, 11481, 11084,  1129,  8350, 15668,   659,\n",
              "         7962, 13821,  6100, 14879,    46,  4406, 14821,  6338, 11247, 20002,\n",
              "        16525, 15047,  5170,  9257,  1456, 12133, 15845,  7721,  7408, 16811,\n",
              "        19473,   875, 15003,  9557, 14607,  2498, 10816,  7958,  7639,  2101,\n",
              "        11385, 15438, 11961,    90,  5185, 17417, 12920,  8636, 15346, 12397,\n",
              "         5113, 12658, 16530,  7227,  1861, 10688,  3361, 14932,  8072,   830,\n",
              "        15654,  2347, 14846,  1542,  8227, 15808,  9979, 14007,  5238, 13772,\n",
              "         6753,  3622,  7729,  3555,  4718, 10088,  5699,  5689,  4984, 10243,\n",
              "         9768,  6893, 17239,  7044,  3573, 15597,  1162, 13639, 13794,  2862,\n",
              "         2303, 17808, 19140, 19883, 12499,  5083, 13363, 15383, 10122, 16052,\n",
              "         6847, 18475,  1133, 14917,  9361,  7536, 15950, 16031,  4751,  6331,\n",
              "        19020,  8259,  3906,  5727, 14304, 11408,  5809,  6269, 12151, 19667,\n",
              "         6343,  5584,  9571, 18950, 13679,  5226, 15020, 12062,  6102,  8599,\n",
              "        19408, 16955, 15080,  6258, 12424,  9800,  2006,  3351,  1365, 17729,\n",
              "        14986, 15907, 17807, 18965, 16806,  1825,  9610,  7404, 20027,  3998,\n",
              "        12153, 16768,  6550, 16033,  2458, 19774, 11791, 18845,  8795, 16931,\n",
              "        12366,  5203,  7375, 14112,  9339, 11647,  5860,  5484,  2541,  4540,\n",
              "         4263,  6731,  8192,  7157, 14048,  9029,  6012, 12971,  8955, 14628,\n",
              "         2435, 13737,   603, 15535, 11696,   258,  6402, 18526,   128, 14948,\n",
              "        16459, 19176, 11224, 14482,  4924,  1873,  7037, 10762,  7682, 18294,\n",
              "        19233,  7827, 18936,  5058,  9397,  7662, 11627,   145, 16393, 15384,\n",
              "        12913,  6267,  4424,  5072, 13479, 18165,  4241, 12693,  3537,  4515,\n",
              "        16106, 17101, 10961,  1360,  3592,  5811,  2752, 19161,  9802, 15721,\n",
              "        18119,  9639, 15827,  5636, 19069, 14097, 19218,  8489, 15468, 11934,\n",
              "        12436, 16948, 15604,  8741, 10632, 12098, 17942,    17, 12290,  9019,\n",
              "        13032,  4900,   914,  4987,  2760, 12317, 14550, 10432, 13874,  2053,\n",
              "        13538, 17975,  1929, 14826,  7562,   902, 11687,  3368,  9903, 13982,\n",
              "        11049, 14203,  9837,  5980, 11617, 15784,  9177, 19062, 15913, 10792,\n",
              "         1708,  8010, 16458, 15292, 15094,  2041, 17486, 18959, 15703,  3811,\n",
              "         5375, 13763, 19618,   390,  8456, 12982,  6951, 11509,  9572, 11210,\n",
              "        19995, 11430,  5479, 12410,  9625,  4819, 17368, 17096, 17655, 14521,\n",
              "         1796, 16380, 19359, 11029,  1399, 16364,  4931, 13004, 17920, 10765,\n",
              "         5844,  1157,  4556,  2068,  5080, 15128, 14695,  3879, 14925, 18201,\n",
              "         2208,  4196,  1071,  4334,   929, 15396,  9194, 17260,  6412, 13518,\n",
              "        19156,  6252, 14757,  5850,  6595, 16169,   827, 11654, 16774,  8838,\n",
              "        17163, 19103,  6308, 12495,  4005,  7041, 16361, 11243, 18638,  8755,\n",
              "        17311,  5378,  2878, 16340, 20022,  2309,  9863, 13688, 12449,   297])"
            ]
          },
          "metadata": {
            "tags": []
          },
          "execution_count": 28
        }
      ]
    },
    {
      "cell_type": "markdown",
      "metadata": {
        "id": "iGG7PA_U6pmh",
        "colab_type": "text"
      },
      "source": [
        "### Movie bias"
      ]
    },
    {
      "cell_type": "code",
      "metadata": {
        "id": "QhWFx1lV6rlc",
        "colab_type": "code",
        "outputId": "be843c0d-55aa-4fb9-ffa0-627cefff6286",
        "colab": {
          "base_uri": "https://localhost:8080/",
          "height": 34
        }
      },
      "source": [
        "movie_bias = learn.bias(top_movies, is_item=True)\n",
        "movie_bias.shape"
      ],
      "execution_count": 0,
      "outputs": [
        {
          "output_type": "execute_result",
          "data": {
            "text/plain": [
              "torch.Size([1000])"
            ]
          },
          "metadata": {
            "tags": []
          },
          "execution_count": 29
        }
      ]
    },
    {
      "cell_type": "code",
      "metadata": {
        "id": "qqkkZ-H26wi1",
        "colab_type": "code",
        "colab": {}
      },
      "source": [
        "mean_ratings = ratings.groupby('title')['rating'].mean()\n",
        "movie_ratings = [(b, i, mean_ratings.loc[i]) for i,b in zip(top_movies,movie_bias)]"
      ],
      "execution_count": 0,
      "outputs": []
    },
    {
      "cell_type": "code",
      "metadata": {
        "id": "SpiP-X036zSA",
        "colab_type": "code",
        "colab": {}
      },
      "source": [
        "item0 = lambda o:o[0]"
      ],
      "execution_count": 0,
      "outputs": []
    },
    {
      "cell_type": "code",
      "metadata": {
        "id": "mm6ayXno61Ta",
        "colab_type": "code",
        "outputId": "d41ce4d5-200f-4225-d3c5-3a2ab0736519",
        "colab": {
          "base_uri": "https://localhost:8080/",
          "height": 340
        }
      },
      "source": [
        "sorted(movie_ratings, key=item0)[:15]"
      ],
      "execution_count": 0,
      "outputs": [
        {
          "output_type": "execute_result",
          "data": {
            "text/plain": [
              "[(tensor(-0.3162), 'Speed 2: Cruise Control (1997)', 1.8675918979744937),\n",
              " (tensor(-0.2922), 'Super Mario Bros. (1993)', 2.0309888579387185),\n",
              " (tensor(-0.2312), 'Anaconda (1997)', 2.0959774170783345),\n",
              " (tensor(-0.2198), 'Batman & Robin (1997)', 2.1801339285714287),\n",
              " (tensor(-0.2101), 'Showgirls (1995)', 2.2511061946902653),\n",
              " (tensor(-0.1849), 'Wild Wild West (1999)', 2.320194384449244),\n",
              " (tensor(-0.1753), 'Godzilla (1998)', 2.2878048780487803),\n",
              " (tensor(-0.1747), 'Richie Rich (1994)', 2.39177657098526),\n",
              " (tensor(-0.1711), 'Flintstones, The (1994)', 2.4488286066584464),\n",
              " (tensor(-0.1589), 'Striptease (1996)', 2.416131792896876),\n",
              " (tensor(-0.1425),\n",
              "  'Ace Ventura: When Nature Calls (1995)',\n",
              "  2.6078507578701906),\n",
              " (tensor(-0.1398), 'Scream 3 (2000)', 2.455784574468085),\n",
              " (tensor(-0.1329), 'Home Alone 2: Lost in New York (1992)', 2.453235294117647),\n",
              " (tensor(-0.1282), \"Dude, Where's My Car? (2000)\", 2.4435674822415154),\n",
              " (tensor(-0.1264),\n",
              "  'I Know What You Did Last Summer (1997)',\n",
              "  2.465823466092573)]"
            ]
          },
          "metadata": {
            "tags": []
          },
          "execution_count": 32
        }
      ]
    },
    {
      "cell_type": "code",
      "metadata": {
        "id": "dTgAz7fA63Cm",
        "colab_type": "code",
        "outputId": "957c6cd8-ef87-4a94-f3cf-52b68a294216",
        "colab": {
          "base_uri": "https://localhost:8080/",
          "height": 340
        }
      },
      "source": [
        "sorted(movie_ratings, key=lambda o: o[0], reverse=True)[:15]"
      ],
      "execution_count": 0,
      "outputs": [
        {
          "output_type": "execute_result",
          "data": {
            "text/plain": [
              "[(tensor(0.9796), 'Shawshank Redemption, The (1994)', 4.450886075949367),\n",
              " (tensor(0.8052), 'Usual Suspects, The (1995)', 4.347230519757617),\n",
              " (tensor(0.8015), \"Schindler's List (1993)\", 4.307224122841912),\n",
              " (tensor(0.7500), 'Silence of the Lambs, The (1991)', 4.180525373897482),\n",
              " (tensor(0.7081), 'Godfather, The (1972)', 4.347281553398059),\n",
              " (tensor(0.6891),\n",
              "  'Star Wars: Episode IV - A New Hope (1977)',\n",
              "  4.192349886637899),\n",
              " (tensor(0.6769), 'Forrest Gump (1994)', 4.0296094459582195),\n",
              " (tensor(0.6726), 'Fugitive, The (1993)', 3.97530262409619),\n",
              " (tensor(0.6710), 'Braveheart (1995)', 4.042618530447157),\n",
              " (tensor(0.6629), 'Pulp Fiction (1994)', 4.16751481769742),\n",
              " (tensor(0.6539),\n",
              "  'Raiders of the Lost Ark (Indiana Jones and the Raiders of the Lost Ark) (1981)',\n",
              "  4.21310420878515),\n",
              " (tensor(0.6238), 'Matrix, The (1999)', 4.177908151371513),\n",
              " (tensor(0.6195), \"One Flew Over the Cuckoo's Nest (1975)\", 4.255806148476306),\n",
              " (tensor(0.6070), 'Seven (a.k.a. Se7en) (1995)', 4.059125723893144),\n",
              " (tensor(0.6033), 'Princess Bride, The (1987)', 4.177039941190885)]"
            ]
          },
          "metadata": {
            "tags": []
          },
          "execution_count": 33
        }
      ]
    },
    {
      "cell_type": "markdown",
      "metadata": {
        "id": "rq_XqtHT65y-",
        "colab_type": "text"
      },
      "source": [
        "### Movie weights"
      ]
    },
    {
      "cell_type": "code",
      "metadata": {
        "id": "aevSOyYx6-pA",
        "colab_type": "code",
        "outputId": "763dfac4-6cfd-4424-82ff-138b5610fdcc",
        "colab": {
          "base_uri": "https://localhost:8080/",
          "height": 34
        }
      },
      "source": [
        "movie_w = learn.weight(top_movies, is_item=True)\n",
        "movie_w.shape"
      ],
      "execution_count": 0,
      "outputs": [
        {
          "output_type": "execute_result",
          "data": {
            "text/plain": [
              "torch.Size([1000, 40])"
            ]
          },
          "metadata": {
            "tags": []
          },
          "execution_count": 34
        }
      ]
    },
    {
      "cell_type": "code",
      "metadata": {
        "id": "H1sqCN1A7ApW",
        "colab_type": "code",
        "outputId": "cdcf4064-aedf-468b-bea7-17ec2ed51653",
        "colab": {
          "base_uri": "https://localhost:8080/",
          "height": 34
        }
      },
      "source": [
        "movie_pca = movie_w.pca(3)\n",
        "movie_pca.shape"
      ],
      "execution_count": 0,
      "outputs": [
        {
          "output_type": "execute_result",
          "data": {
            "text/plain": [
              "torch.Size([1000, 3])"
            ]
          },
          "metadata": {
            "tags": []
          },
          "execution_count": 35
        }
      ]
    },
    {
      "cell_type": "code",
      "metadata": {
        "id": "9kRh2oLu7YGX",
        "colab_type": "code",
        "colab": {}
      },
      "source": [
        "fac0,fac1,fac2 = movie_pca.t()\n",
        "movie_comp = [(f, i) for f,i in zip(fac0, top_movies)]"
      ],
      "execution_count": 0,
      "outputs": []
    },
    {
      "cell_type": "code",
      "metadata": {
        "id": "00pgUmT37wO8",
        "colab_type": "code",
        "outputId": "1e0daead-d052-4b1f-b8b5-376377c0b796",
        "colab": {
          "base_uri": "https://localhost:8080/",
          "height": 187
        }
      },
      "source": [
        "sorted(movie_comp, key=itemgetter(0), reverse=True)[:10]"
      ],
      "execution_count": 0,
      "outputs": [
        {
          "output_type": "execute_result",
          "data": {
            "text/plain": [
              "[(tensor(1.6730), 'Independence Day (a.k.a. ID4) (1996)'),\n",
              " (tensor(1.6201), 'Net, The (1995)'),\n",
              " (tensor(1.5638), 'Twister (1996)'),\n",
              " (tensor(1.5435), 'Under Siege 2: Dark Territory (1995)'),\n",
              " (tensor(1.5256), 'Armageddon (1998)'),\n",
              " (tensor(1.5155), 'Congo (1995)'),\n",
              " (tensor(1.5124), 'Eraser (1996)'),\n",
              " (tensor(1.4967), 'Speed 2: Cruise Control (1997)'),\n",
              " (tensor(1.4808), 'First Knight (1995)'),\n",
              " (tensor(1.4109), 'Specialist, The (1994)')]"
            ]
          },
          "metadata": {
            "tags": []
          },
          "execution_count": 37
        }
      ]
    },
    {
      "cell_type": "code",
      "metadata": {
        "id": "9hbv5CbE7yMQ",
        "colab_type": "code",
        "outputId": "713fb189-81bb-4e3f-f33c-613c68483ac5",
        "colab": {
          "base_uri": "https://localhost:8080/",
          "height": 204
        }
      },
      "source": [
        "sorted(movie_comp, key=itemgetter(0))[:10]"
      ],
      "execution_count": 0,
      "outputs": [
        {
          "output_type": "execute_result",
          "data": {
            "text/plain": [
              "[(tensor(-1.6536),\n",
              "  'Dr. Strangelove or: How I Learned to Stop Worrying and Love the Bomb (1964)'),\n",
              " (tensor(-1.5151), 'Citizen Kane (1941)'),\n",
              " (tensor(-1.4895), 'Clockwork Orange, A (1971)'),\n",
              " (tensor(-1.4808), 'Annie Hall (1977)'),\n",
              " (tensor(-1.4577), 'Third Man, The (1949)'),\n",
              " (tensor(-1.4309), 'Apocalypse Now (1979)'),\n",
              " (tensor(-1.4150), 'Sunset Blvd. (a.k.a. Sunset Boulevard) (1950)'),\n",
              " (tensor(-1.4085), 'Chinatown (1974)'),\n",
              " (tensor(-1.3920), 'Raging Bull (1980)'),\n",
              " (tensor(-1.3866), 'Godfather: Part II, The (1974)')]"
            ]
          },
          "metadata": {
            "tags": []
          },
          "execution_count": 38
        }
      ]
    },
    {
      "cell_type": "code",
      "metadata": {
        "id": "_takWn8M709a",
        "colab_type": "code",
        "colab": {}
      },
      "source": [
        "movie_comp = [(f, i) for f,i in zip(fac1, top_movies)]"
      ],
      "execution_count": 0,
      "outputs": []
    },
    {
      "cell_type": "code",
      "metadata": {
        "id": "x64EDjMG728W",
        "colab_type": "code",
        "outputId": "69bb249f-69be-4214-f86b-9e4bbb61c937",
        "colab": {
          "base_uri": "https://localhost:8080/",
          "height": 187
        }
      },
      "source": [
        "sorted(movie_comp, key=itemgetter(0), reverse=True)[:10]"
      ],
      "execution_count": 0,
      "outputs": [
        {
          "output_type": "execute_result",
          "data": {
            "text/plain": [
              "[(tensor(1.6099), 'Fight Club (1999)'),\n",
              " (tensor(1.1047), 'Pulp Fiction (1994)'),\n",
              " (tensor(1.0763), 'Sin City (2005)'),\n",
              " (tensor(1.0425), 'Matrix, The (1999)'),\n",
              " (tensor(0.9996), 'Fear and Loathing in Las Vegas (1998)'),\n",
              " (tensor(0.9721), 'Snatch (2000)'),\n",
              " (tensor(0.9335), 'Dark Knight, The (2008)'),\n",
              " (tensor(0.9290), 'Natural Born Killers (1994)'),\n",
              " (tensor(0.8943), 'Lock, Stock & Two Smoking Barrels (1998)'),\n",
              " (tensor(0.8922), 'From Dusk Till Dawn (1996)')]"
            ]
          },
          "metadata": {
            "tags": []
          },
          "execution_count": 40
        }
      ]
    },
    {
      "cell_type": "code",
      "metadata": {
        "id": "got1C77O75e5",
        "colab_type": "code",
        "outputId": "94cc3d97-b7c2-4444-c214-76ea11a5b43d",
        "colab": {
          "base_uri": "https://localhost:8080/",
          "height": 187
        }
      },
      "source": [
        "sorted(movie_comp, key=itemgetter(0))[:10]"
      ],
      "execution_count": 0,
      "outputs": [
        {
          "output_type": "execute_result",
          "data": {
            "text/plain": [
              "[(tensor(-1.6268), 'Babe (1995)'),\n",
              " (tensor(-1.4489), 'Beauty and the Beast (1991)'),\n",
              " (tensor(-1.3223), 'Sense and Sensibility (1995)'),\n",
              " (tensor(-1.2726), 'Snow White and the Seven Dwarfs (1937)'),\n",
              " (tensor(-1.2648), 'Sound of Music, The (1965)'),\n",
              " (tensor(-1.1534), 'Sleepless in Seattle (1993)'),\n",
              " (tensor(-1.1476), 'Wizard of Oz, The (1939)'),\n",
              " (tensor(-1.1284), 'To Kill a Mockingbird (1962)'),\n",
              " (tensor(-1.0673), 'Shakespeare in Love (1998)'),\n",
              " (tensor(-1.0566), 'Casablanca (1942)')]"
            ]
          },
          "metadata": {
            "tags": []
          },
          "execution_count": 41
        }
      ]
    },
    {
      "cell_type": "code",
      "metadata": {
        "id": "XrobuP5L7__r",
        "colab_type": "code",
        "outputId": "0058de9b-204b-4aa6-c3f0-60ccd32fb95a",
        "colab": {
          "base_uri": "https://localhost:8080/",
          "height": 883
        }
      },
      "source": [
        "idxs = np.random.choice(len(top_movies), 50, replace=False)\n",
        "idxs = list(range(50))\n",
        "X = fac0[idxs]\n",
        "Y = fac2[idxs]\n",
        "plt.figure(figsize=(15,15))\n",
        "plt.scatter(X, Y)\n",
        "for i, x, y in zip(top_movies[idxs], X, Y):\n",
        "    plt.text(x,y,i, color=np.random.rand(3)*0.7, fontsize=11)\n",
        "plt.show()"
      ],
      "execution_count": 0,
      "outputs": [
        {
          "output_type": "display_data",
          "data": {
            "image/png": "[encoded data removed]",
            "text/plain": [
              "<Figure size 1080x1080 with 1 Axes>"
            ]
          },
          "metadata": {
            "tags": []
          }
        }
      ]
    },
    {
      "cell_type": "code",
      "metadata": {
        "id": "OXtyrwuA-KFJ",
        "colab_type": "code",
        "colab": {}
      },
      "source": [
        ""
      ],
      "execution_count": 0,
      "outputs": []
    }
  ]
}