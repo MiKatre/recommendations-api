{
  "nbformat": 4,
  "nbformat_minor": 0,
  "metadata": {
    "colab": {
      "name": "p6-recommendations.ipynb",
      "provenance": [],
      "collapsed_sections": [
        "SuM4veHtqSt3",
        "A55Mph8UvcR8",
        "FiAbljyluTel",
        "KYQgS4lNudZP"
      ],
      "include_colab_link": true
    },
    "kernelspec": {
      "name": "python3",
      "display_name": "Python 3"
    },
    "accelerator": "GPU"
  },
  "cells": [
    {
      "cell_type": "markdown",
      "metadata": {
        "id": "view-in-github",
        "colab_type": "text"
      },
      "source": [
        "<a href=\"https://colab.research.google.com/github/MiKatre/recommendations-api/blob/notebook-1/p6_recommendations.ipynb\" target=\"_parent\"><img src=\"https://colab.research.google.com/assets/colab-badge.svg\" alt=\"Open In Colab\"/></a>"
      ]
    },
    {
      "cell_type": "code",
      "metadata": {
        "id": "t5vXu9xeoiYf",
        "colab_type": "code",
        "colab": {}
      },
      "source": [
        "from fastai.collab import *\n",
        "from fastai.tabular import *"
      ],
      "execution_count": 0,
      "outputs": []
    },
    {
      "cell_type": "code",
      "metadata": {
        "id": "GhMFE9ADos3o",
        "colab_type": "code",
        "outputId": "07c99902-99f2-4c17-ccab-fe9ed3aa69c4",
        "colab": {
          "base_uri": "https://localhost:8080/",
          "height": 51
        }
      },
      "source": [
        "  !curl -s https://course.fast.ai/setup/colab | bash"
      ],
      "execution_count": 0,
      "outputs": [
        {
          "output_type": "stream",
          "text": [
            "Updating fastai...\n",
            "Done.\n"
          ],
          "name": "stdout"
        }
      ]
    },
    {
      "cell_type": "code",
      "metadata": {
        "id": "G6tUu8nooth5",
        "colab_type": "code",
        "outputId": "bfb69d5c-2e8f-4f11-8d4c-ba522649b2bf",
        "colab": {
          "base_uri": "https://localhost:8080/",
          "height": 122
        }
      },
      "source": [
        "from google.colab import drive\n",
        "drive.mount('/content/gdrive', force_remount=True)\n",
        "root_dir = \"/content/gdrive/My Drive/\"\n",
        "base_dir = root_dir + 'cinetimes/'"
      ],
      "execution_count": 0,
      "outputs": [
        {
          "output_type": "stream",
          "text": [
            "Go to this URL in a browser: https://accounts.google.com/o/oauth2/auth?client_id=947318989803-6bn6qk8qdgf4n4g3pfee6491hc0brc4i.apps.googleusercontent.com&redirect_uri=urn%3Aietf%3Awg%3Aoauth%3A2.0%3Aoob&scope=email%20https%3A%2F%2Fwww.googleapis.com%2Fauth%2Fdocs.test%20https%3A%2F%2Fwww.googleapis.com%2Fauth%2Fdrive%20https%3A%2F%2Fwww.googleapis.com%2Fauth%2Fdrive.photos.readonly%20https%3A%2F%2Fwww.googleapis.com%2Fauth%2Fpeopleapi.readonly&response_type=code\n",
            "\n",
            "Enter your authorization code:\n",
            "··········\n",
            "Mounted at /content/gdrive\n"
          ],
          "name": "stdout"
        }
      ]
    },
    {
      "cell_type": "markdown",
      "metadata": {
        "id": "SuM4veHtqSt3",
        "colab_type": "text"
      },
      "source": [
        "## Fetch data"
      ]
    },
    {
      "cell_type": "markdown",
      "metadata": {
        "id": "A55Mph8UvcR8",
        "colab_type": "text"
      },
      "source": [
        "###### Set env"
      ]
    },
    {
      "cell_type": "code",
      "metadata": {
        "id": "Qm3XReTGvbsV",
        "colab_type": "code",
        "colab": {}
      },
      "source": [
        "#import os\n",
        "#os.environ['SQLALCHEMY_DATABASE_URL'] = \"\""
      ],
      "execution_count": 0,
      "outputs": []
    },
    {
      "cell_type": "markdown",
      "metadata": {
        "id": "FiAbljyluTel",
        "colab_type": "text"
      },
      "source": [
        "###### Movie lens 20M\n",
        "\n"
      ]
    },
    {
      "cell_type": "code",
      "metadata": {
        "id": "LQKQ2gq5o1-D",
        "colab_type": "code",
        "outputId": "25c99630-5a8e-4eeb-a8f1-a003a87eafd5",
        "colab": {
          "base_uri": "https://localhost:8080/",
          "height": 54
        }
      },
      "source": [
        "import urllib.request\n",
        "import zipfile\n",
        "\n",
        "url = 'http://files.grouplens.org/datasets/movielens/ml-20m.zip'\n",
        "path = Path(base_dir + 'data/')\n",
        "\n",
        "path.mkdir(parents=True, exist_ok=True)\n",
        "dest_zip = path/'ml-20m.zip'\n",
        "dest_unzip = path/'ml-20m'\n",
        "\n",
        "if not dest_unzip.exists():\n",
        "  print('Downloading and extracting files...')\n",
        "  urllib.request.urlretrieve(url, dest_zip)\n",
        "\n",
        "  with zipfile.ZipFile(dest_zip, 'r') as ref:\n",
        "    ref.extractall(path)\n",
        "\n",
        "  print('Removing zip file...')\n",
        "  dest_zip.unlink()\n",
        "  print('Done !')\n",
        "\n",
        "else:\n",
        "  print('Files already downloaded...')\n",
        "\n",
        "path = dest_unzip"
      ],
      "execution_count": 0,
      "outputs": [
        {
          "output_type": "stream",
          "text": [
            "Files already downloaded...\n"
          ],
          "name": "stdout"
        }
      ]
    },
    {
      "cell_type": "markdown",
      "metadata": {
        "id": "KYQgS4lNudZP",
        "colab_type": "text"
      },
      "source": [
        "###### Database"
      ]
    },
    {
      "cell_type": "code",
      "metadata": {
        "id": "1LZh1811uZTL",
        "colab_type": "code",
        "colab": {}
      },
      "source": [
        "# !pip install mysqlclient\n",
        "# from sqlalchemy import create_engine\n",
        "# from sqlalchemy.ext.declarative import declarative_base\n",
        "# from sqlalchemy.orm import sessionmaker"
      ],
      "execution_count": 0,
      "outputs": []
    },
    {
      "cell_type": "code",
      "metadata": {
        "id": "fMeENGkurLjG",
        "colab_type": "code",
        "colab": {}
      },
      "source": [
        "# SQLALCHEMY_DATABASE_URL=os.environ.get('SQLALCHEMY_DATABASE_URL')\n",
        "# engine = create_engine(SQLALCHEMY_DATABASE_URL)\n",
        "# Session = sessionmaker(autocommit=False, autoflush=False, bind=engine)\n",
        "# session = Session()"
      ],
      "execution_count": 0,
      "outputs": []
    },
    {
      "cell_type": "code",
      "metadata": {
        "id": "Q8peEcqOvOKC",
        "colab_type": "code",
        "colab": {}
      },
      "source": [
        ""
      ],
      "execution_count": 0,
      "outputs": []
    },
    {
      "cell_type": "markdown",
      "metadata": {
        "id": "Fdc7pEs8wVOK",
        "colab_type": "text"
      },
      "source": [
        "## Train the model"
      ]
    },
    {
      "cell_type": "code",
      "metadata": {
        "id": "ZuR1uEAkvVG8",
        "colab_type": "code",
        "colab": {}
      },
      "source": [
        "ratings = pd.read_csv(base_dir + 'cinetimes-dataset.csv')"
      ],
      "execution_count": 0,
      "outputs": []
    },
    {
      "cell_type": "markdown",
      "metadata": {
        "id": "nm7oCM4J0gXp",
        "colab_type": "text"
      },
      "source": [
        "Join the movie names according the imdbId in the dataset\n"
      ]
    },
    {
      "cell_type": "code",
      "metadata": {
        "id": "UWPtZTWoz3es",
        "colab_type": "code",
        "colab": {}
      },
      "source": [
        "# def add_tt(movie_id):\n",
        "#     return f\"tt{movie_id}\"\n",
        "\n",
        "# external_ids = pd.read_csv(base_dir + 'data/ml-20m/links.csv', converters={'imdbId': str, 'tmdbId': str})\n",
        "# movies = pd.read_csv(base_dir + 'data/ml-20m/movies.csv')\n",
        "# external_ids['imdbId'] = external_ids['imdbId'].apply(add_tt)\n",
        "\n",
        "# external_ids = external_ids.merge(movies, left_on='movieId', right_on='movieId')\n",
        "# ratings = ratings.merge(external_ids, left_on='imdbId', right_on='imdbId')"
      ],
      "execution_count": 0,
      "outputs": []
    },
    {
      "cell_type": "code",
      "metadata": {
        "id": "BR0RwTNL8Vbl",
        "colab_type": "code",
        "outputId": "f1b87e33-b764-426d-bf83-b7811ce21308",
        "colab": {
          "base_uri": "https://localhost:8080/",
          "height": 204
        }
      },
      "source": [
        "ratings.head()"
      ],
      "execution_count": 0,
      "outputs": [
        {
          "output_type": "execute_result",
          "data": {
            "text/html": [
              "<div>\n",
              "<style scoped>\n",
              "    .dataframe tbody tr th:only-of-type {\n",
              "        vertical-align: middle;\n",
              "    }\n",
              "\n",
              "    .dataframe tbody tr th {\n",
              "        vertical-align: top;\n",
              "    }\n",
              "\n",
              "    .dataframe thead th {\n",
              "        text-align: right;\n",
              "    }\n",
              "</style>\n",
              "<table border=\"1\" class=\"dataframe\">\n",
              "  <thead>\n",
              "    <tr style=\"text-align: right;\">\n",
              "      <th></th>\n",
              "      <th>imdbId</th>\n",
              "      <th>rating</th>\n",
              "      <th>userId</th>\n",
              "    </tr>\n",
              "  </thead>\n",
              "  <tbody>\n",
              "    <tr>\n",
              "      <th>0</th>\n",
              "      <td>tt0113497</td>\n",
              "      <td>3.5</td>\n",
              "      <td>9999991</td>\n",
              "    </tr>\n",
              "    <tr>\n",
              "      <th>1</th>\n",
              "      <td>tt0113497</td>\n",
              "      <td>3.0</td>\n",
              "      <td>9999995</td>\n",
              "    </tr>\n",
              "    <tr>\n",
              "      <th>2</th>\n",
              "      <td>tt0113497</td>\n",
              "      <td>3.0</td>\n",
              "      <td>99999913</td>\n",
              "    </tr>\n",
              "    <tr>\n",
              "      <th>3</th>\n",
              "      <td>tt0113497</td>\n",
              "      <td>3.0</td>\n",
              "      <td>99999929</td>\n",
              "    </tr>\n",
              "    <tr>\n",
              "      <th>4</th>\n",
              "      <td>tt0113497</td>\n",
              "      <td>3.0</td>\n",
              "      <td>99999934</td>\n",
              "    </tr>\n",
              "  </tbody>\n",
              "</table>\n",
              "</div>"
            ],
            "text/plain": [
              "      imdbId  rating    userId\n",
              "0  tt0113497     3.5   9999991\n",
              "1  tt0113497     3.0   9999995\n",
              "2  tt0113497     3.0  99999913\n",
              "3  tt0113497     3.0  99999929\n",
              "4  tt0113497     3.0  99999934"
            ]
          },
          "metadata": {
            "tags": []
          },
          "execution_count": 10
        }
      ]
    },
    {
      "cell_type": "code",
      "metadata": {
        "id": "GR2SaAtVwUC6",
        "colab_type": "code",
        "outputId": "4cf7b5d0-624b-48ce-97dc-029e2bb598d6",
        "colab": {
          "base_uri": "https://localhost:8080/",
          "height": 204
        }
      },
      "source": [
        "# Change column order to fit CollabDataBunch\n",
        "ratings = ratings[['userId', 'imdbId','rating']]\n",
        "ratings.head()"
      ],
      "execution_count": 0,
      "outputs": [
        {
          "output_type": "execute_result",
          "data": {
            "text/html": [
              "<div>\n",
              "<style scoped>\n",
              "    .dataframe tbody tr th:only-of-type {\n",
              "        vertical-align: middle;\n",
              "    }\n",
              "\n",
              "    .dataframe tbody tr th {\n",
              "        vertical-align: top;\n",
              "    }\n",
              "\n",
              "    .dataframe thead th {\n",
              "        text-align: right;\n",
              "    }\n",
              "</style>\n",
              "<table border=\"1\" class=\"dataframe\">\n",
              "  <thead>\n",
              "    <tr style=\"text-align: right;\">\n",
              "      <th></th>\n",
              "      <th>userId</th>\n",
              "      <th>imdbId</th>\n",
              "      <th>rating</th>\n",
              "    </tr>\n",
              "  </thead>\n",
              "  <tbody>\n",
              "    <tr>\n",
              "      <th>0</th>\n",
              "      <td>9999991</td>\n",
              "      <td>tt0113497</td>\n",
              "      <td>3.5</td>\n",
              "    </tr>\n",
              "    <tr>\n",
              "      <th>1</th>\n",
              "      <td>9999995</td>\n",
              "      <td>tt0113497</td>\n",
              "      <td>3.0</td>\n",
              "    </tr>\n",
              "    <tr>\n",
              "      <th>2</th>\n",
              "      <td>99999913</td>\n",
              "      <td>tt0113497</td>\n",
              "      <td>3.0</td>\n",
              "    </tr>\n",
              "    <tr>\n",
              "      <th>3</th>\n",
              "      <td>99999929</td>\n",
              "      <td>tt0113497</td>\n",
              "      <td>3.0</td>\n",
              "    </tr>\n",
              "    <tr>\n",
              "      <th>4</th>\n",
              "      <td>99999934</td>\n",
              "      <td>tt0113497</td>\n",
              "      <td>3.0</td>\n",
              "    </tr>\n",
              "  </tbody>\n",
              "</table>\n",
              "</div>"
            ],
            "text/plain": [
              "     userId     imdbId  rating\n",
              "0   9999991  tt0113497     3.5\n",
              "1   9999995  tt0113497     3.0\n",
              "2  99999913  tt0113497     3.0\n",
              "3  99999929  tt0113497     3.0\n",
              "4  99999934  tt0113497     3.0"
            ]
          },
          "metadata": {
            "tags": []
          },
          "execution_count": 11
        }
      ]
    },
    {
      "cell_type": "code",
      "metadata": {
        "id": "JcUDxoKv8sYB",
        "colab_type": "code",
        "colab": {}
      },
      "source": [
        "# Comment if you want the full dataset\n",
        "#smaller_ratings = ratings[10000000:]\n",
        "# smaller_ratings = ratings[-5000000:] # Last 5M\n",
        "# ratings = smaller_ratings\n",
        "# ratings.tail()"
      ],
      "execution_count": 0,
      "outputs": []
    },
    {
      "cell_type": "code",
      "metadata": {
        "id": "JWd2JYqBx6EM",
        "colab_type": "code",
        "outputId": "45fcc70d-ce6e-4ea5-96f4-383afb7ce562",
        "colab": {
          "base_uri": "https://localhost:8080/",
          "height": 34
        }
      },
      "source": [
        "len(ratings)"
      ],
      "execution_count": 0,
      "outputs": [
        {
          "output_type": "execute_result",
          "data": {
            "text/plain": [
              "5000039"
            ]
          },
          "metadata": {
            "tags": []
          },
          "execution_count": 13
        }
      ]
    },
    {
      "cell_type": "code",
      "metadata": {
        "id": "c1VhsDu5x6c8",
        "colab_type": "code",
        "colab": {}
      },
      "source": [
        "data = CollabDataBunch.from_df(ratings, seed=42, valid_pct=0.1, bs=128)"
      ],
      "execution_count": 0,
      "outputs": []
    },
    {
      "cell_type": "code",
      "metadata": {
        "id": "z1fSEg45x8rU",
        "colab_type": "code",
        "outputId": "ea0e681c-95cb-4aa7-b42b-9adff37e8f61",
        "colab": {
          "base_uri": "https://localhost:8080/",
          "height": 204
        }
      },
      "source": [
        "data.show_batch()"
      ],
      "execution_count": 0,
      "outputs": [
        {
          "output_type": "display_data",
          "data": {
            "text/html": [
              "<table border=\"1\" class=\"dataframe\">\n",
              "  <thead>\n",
              "    <tr style=\"text-align: right;\">\n",
              "      <th>userId</th>\n",
              "      <th>imdbId</th>\n",
              "      <th>target</th>\n",
              "    </tr>\n",
              "  </thead>\n",
              "  <tbody>\n",
              "    <tr>\n",
              "      <td>99999918389</td>\n",
              "      <td>tt0047472</td>\n",
              "      <td>1.0</td>\n",
              "    </tr>\n",
              "    <tr>\n",
              "      <td>99999910339</td>\n",
              "      <td>tt1035736</td>\n",
              "      <td>3.5</td>\n",
              "    </tr>\n",
              "    <tr>\n",
              "      <td>9999993514</td>\n",
              "      <td>tt0145681</td>\n",
              "      <td>3.5</td>\n",
              "    </tr>\n",
              "    <tr>\n",
              "      <td>99999918780</td>\n",
              "      <td>tt0120770</td>\n",
              "      <td>0.5</td>\n",
              "    </tr>\n",
              "    <tr>\n",
              "      <td>99999924990</td>\n",
              "      <td>tt0117589</td>\n",
              "      <td>4.0</td>\n",
              "    </tr>\n",
              "  </tbody>\n",
              "</table>"
            ],
            "text/plain": [
              "<IPython.core.display.HTML object>"
            ]
          },
          "metadata": {
            "tags": []
          }
        }
      ]
    },
    {
      "cell_type": "code",
      "metadata": {
        "id": "H4tu0SrgyK2G",
        "colab_type": "code",
        "colab": {}
      },
      "source": [
        "y_range = [0,5.5]"
      ],
      "execution_count": 0,
      "outputs": []
    },
    {
      "cell_type": "code",
      "metadata": {
        "id": "o509PpQpyOxI",
        "colab_type": "code",
        "colab": {}
      },
      "source": [
        "learn = collab_learner(data, n_factors=40, y_range=y_range, wd=1e-1)"
      ],
      "execution_count": 0,
      "outputs": []
    },
    {
      "cell_type": "code",
      "metadata": {
        "id": "HinaoWe6yR0-",
        "colab_type": "code",
        "outputId": "2478581c-e140-4a37-bc88-3b54716c2a8e",
        "colab": {
          "base_uri": "https://localhost:8080/",
          "height": 296
        }
      },
      "source": [
        "learn.lr_find()\n",
        "learn.recorder.plot(skip_end=15)"
      ],
      "execution_count": 0,
      "outputs": [
        {
          "output_type": "display_data",
          "data": {
            "text/html": [
              ""
            ],
            "text/plain": [
              "<IPython.core.display.HTML object>"
            ]
          },
          "metadata": {
            "tags": []
          }
        },
        {
          "output_type": "stream",
          "text": [
            "LR Finder is complete, type {learner_name}.recorder.plot() to see the graph.\n"
          ],
          "name": "stdout"
        },
        {
          "output_type": "display_data",
          "data": {
            "image/png": "[encoded data removed]",
            "text/plain": [
              "<Figure size 432x288 with 1 Axes>"
            ]
          },
          "metadata": {
            "tags": []
          }
        }
      ]
    },
    {
      "cell_type": "code",
      "metadata": {
        "id": "U1B4x_0HySQ_",
        "colab_type": "code",
        "outputId": "518735dd-47cd-4196-e2b1-f6e871c88b1b",
        "colab": {
          "base_uri": "https://localhost:8080/",
          "height": 204
        }
      },
      "source": [
        "learn.fit_one_cycle(5, 5e-3)"
      ],
      "execution_count": 0,
      "outputs": [
        {
          "output_type": "display_data",
          "data": {
            "text/html": [
              "<table border=\"1\" class=\"dataframe\">\n",
              "  <thead>\n",
              "    <tr style=\"text-align: left;\">\n",
              "      <th>epoch</th>\n",
              "      <th>train_loss</th>\n",
              "      <th>valid_loss</th>\n",
              "      <th>time</th>\n",
              "    </tr>\n",
              "  </thead>\n",
              "  <tbody>\n",
              "    <tr>\n",
              "      <td>0</td>\n",
              "      <td>0.837365</td>\n",
              "      <td>0.833849</td>\n",
              "      <td>08:20</td>\n",
              "    </tr>\n",
              "    <tr>\n",
              "      <td>1</td>\n",
              "      <td>0.830803</td>\n",
              "      <td>0.838225</td>\n",
              "      <td>08:35</td>\n",
              "    </tr>\n",
              "    <tr>\n",
              "      <td>2</td>\n",
              "      <td>0.770846</td>\n",
              "      <td>0.807977</td>\n",
              "      <td>08:38</td>\n",
              "    </tr>\n",
              "    <tr>\n",
              "      <td>3</td>\n",
              "      <td>0.735024</td>\n",
              "      <td>0.754556</td>\n",
              "      <td>08:27</td>\n",
              "    </tr>\n",
              "    <tr>\n",
              "      <td>4</td>\n",
              "      <td>0.767562</td>\n",
              "      <td>0.730516</td>\n",
              "      <td>08:22</td>\n",
              "    </tr>\n",
              "  </tbody>\n",
              "</table>"
            ],
            "text/plain": [
              "<IPython.core.display.HTML object>"
            ]
          },
          "metadata": {
            "tags": []
          }
        }
      ]
    },
    {
      "cell_type": "code",
      "metadata": {
        "id": "fY6sKHcWXj0z",
        "colab_type": "code",
        "colab": {}
      },
      "source": [
        "learn.save('prodmodel-2')"
      ],
      "execution_count": 0,
      "outputs": []
    },
    {
      "cell_type": "code",
      "metadata": {
        "id": "fP3H5az_yb0A",
        "colab_type": "code",
        "colab": {}
      },
      "source": [
        "learn.save(base_dir + '/prodmodel-2')"
      ],
      "execution_count": 0,
      "outputs": []
    },
    {
      "cell_type": "code",
      "metadata": {
        "id": "lv2-v5QQTAFx",
        "colab_type": "code",
        "colab": {}
      },
      "source": [
        "# Export for production\n",
        "learn.export(base_dir + '/prodmodel-2')"
      ],
      "execution_count": 0,
      "outputs": []
    },
    {
      "cell_type": "code",
      "metadata": {
        "id": "0E284M1yxyFg",
        "colab_type": "code",
        "colab": {}
      },
      "source": [
        "#learn.load(base_dir + '/prodmodel-2')\n",
        "#learn = load_learner(base_dir, 'prodmodel.pth')"
      ],
      "execution_count": 0,
      "outputs": []
    },
    {
      "cell_type": "code",
      "metadata": {
        "id": "ohCmwsNcyCsE",
        "colab_type": "code",
        "outputId": "b3fe1b9e-6e95-48c7-88f2-6a7ca9787c2a",
        "colab": {
          "base_uri": "https://localhost:8080/",
          "height": 119
        }
      },
      "source": [
        "# Only keep my users\n",
        "all_users = ratings.loc[ratings['userId'] < 999999]\n",
        "\n",
        "# Get array of users id\n",
        "my_users = all_users['userId'].unique()\n",
        "\n",
        "# Get array of all movies id\n",
        "all_movie_ids = ratings['imdbId'].unique()\n",
        "\n",
        "data = []\n",
        "for user_id in my_users:\n",
        "  # Get list of all movies rated by the userId\n",
        "  user_rated_rows = ratings.loc[ratings['userId'] == user_id]\n",
        "  user_rated_ids = user_rated_rows['imdbId'].unique()\n",
        "  \n",
        "  # Remove the movie_ids that user_x has rated from the list of all movie ids\n",
        "  movie_ids_to_pred = np.setdiff1d(all_movie_ids, user_rated_ids)\n",
        "  \n",
        "  # Create a dataframe with movies not rated by user\n",
        "  \n",
        "  for movie_id in movie_ids_to_pred:\n",
        "    data.append({\n",
        "        'userId': user_id,\n",
        "        'imdbId': movie_id,\n",
        "        'rating': None,\n",
        "    })\n",
        "  \n",
        "df_to_predict = pd.DataFrame(data=data)\n",
        "\n",
        "print(df_to_predict.head())\n"
      ],
      "execution_count": 0,
      "outputs": [
        {
          "output_type": "stream",
          "text": [
            "   userId     imdbId rating\n",
            "0    1162  tt0000005   None\n",
            "1    1162  tt0000010   None\n",
            "2    1162  tt0000012   None\n",
            "3    1162  tt0000014   None\n",
            "4    1162  tt0000417   None\n"
          ],
          "name": "stdout"
        }
      ]
    },
    {
      "cell_type": "code",
      "metadata": {
        "id": "gX7te8pXjn_n",
        "colab_type": "code",
        "outputId": "67f518d4-2e3b-43a1-d0d4-14329414637e",
        "colab": {
          "base_uri": "https://localhost:8080/",
          "height": 34
        }
      },
      "source": [
        "my_users"
      ],
      "execution_count": 0,
      "outputs": [
        {
          "output_type": "execute_result",
          "data": {
            "text/plain": [
              "array([1162, 1283, 1161, 1406, 1405])"
            ]
          },
          "metadata": {
            "tags": []
          },
          "execution_count": 25
        }
      ]
    },
    {
      "cell_type": "code",
      "metadata": {
        "id": "7ODZJPXSyEFk",
        "colab_type": "code",
        "outputId": "db861958-d6e4-4353-bde8-c08f0b80ff4a",
        "colab": {
          "base_uri": "https://localhost:8080/",
          "height": 136
        }
      },
      "source": [
        "# Predict\n",
        "predictions = []\n",
        "for idx in range(len(df_to_predict)):\n",
        "  row = df_to_predict.iloc[idx]\n",
        "  movie_id = row['imdbId']\n",
        "  user_id = row['userId']\n",
        "  y, pred, raw_pred = learn.predict(row)\n",
        "  prediction = {'userId': user_id, 'movie_id': movie_id, 'prediction': pred.item()}\n",
        "  predictions.append(prediction)\n",
        "  if pred.item() > 4.0: \n",
        "    print(movie_id, pred.item())"
      ],
      "execution_count": 0,
      "outputs": [
        {
          "output_type": "stream",
          "text": [
            "tt0068646 4.064924240112305\n",
            "tt0102926 4.070297718048096\n",
            "tt0111161 4.37367057800293\n",
            "tt0114814 4.1719818115234375\n",
            "tt0111161 4.012946128845215\n",
            "tt0111161 4.081221580505371\n",
            "tt0111161 4.0153093338012695\n"
          ],
          "name": "stdout"
        }
      ]
    },
    {
      "cell_type": "code",
      "metadata": {
        "id": "JR_rjAyNGJM_",
        "colab_type": "code",
        "colab": {}
      },
      "source": [
        "# Sort predictions\n",
        "full_predictions = pd.DataFrame(predictions)\n",
        "sorted_predictions = full_predictions.sort_values(by='prediction', ascending=False)"
      ],
      "execution_count": 0,
      "outputs": []
    },
    {
      "cell_type": "code",
      "metadata": {
        "id": "IOYzmaJwHQ9H",
        "colab_type": "code",
        "outputId": "ae5bc87a-af1e-4e19-985a-60173b6fe2d9",
        "colab": {
          "base_uri": "https://localhost:8080/",
          "height": 419
        }
      },
      "source": [
        "sorted_predictions"
      ],
      "execution_count": 0,
      "outputs": [
        {
          "output_type": "execute_result",
          "data": {
            "text/html": [
              "<div>\n",
              "<style scoped>\n",
              "    .dataframe tbody tr th:only-of-type {\n",
              "        vertical-align: middle;\n",
              "    }\n",
              "\n",
              "    .dataframe tbody tr th {\n",
              "        vertical-align: top;\n",
              "    }\n",
              "\n",
              "    .dataframe thead th {\n",
              "        text-align: right;\n",
              "    }\n",
              "</style>\n",
              "<table border=\"1\" class=\"dataframe\">\n",
              "  <thead>\n",
              "    <tr style=\"text-align: right;\">\n",
              "      <th></th>\n",
              "      <th>userId</th>\n",
              "      <th>movie_id</th>\n",
              "      <th>prediction</th>\n",
              "    </tr>\n",
              "  </thead>\n",
              "  <tbody>\n",
              "    <tr>\n",
              "      <th>8363</th>\n",
              "      <td>1162</td>\n",
              "      <td>tt0111161</td>\n",
              "      <td>4.373671</td>\n",
              "    </tr>\n",
              "    <tr>\n",
              "      <th>8822</th>\n",
              "      <td>1162</td>\n",
              "      <td>tt0114814</td>\n",
              "      <td>4.171982</td>\n",
              "    </tr>\n",
              "    <tr>\n",
              "      <th>49154</th>\n",
              "      <td>1161</td>\n",
              "      <td>tt0111161</td>\n",
              "      <td>4.081222</td>\n",
              "    </tr>\n",
              "    <tr>\n",
              "      <th>7428</th>\n",
              "      <td>1162</td>\n",
              "      <td>tt0102926</td>\n",
              "      <td>4.070298</td>\n",
              "    </tr>\n",
              "    <tr>\n",
              "      <th>3831</th>\n",
              "      <td>1162</td>\n",
              "      <td>tt0068646</td>\n",
              "      <td>4.064924</td>\n",
              "    </tr>\n",
              "    <tr>\n",
              "      <th>...</th>\n",
              "      <td>...</td>\n",
              "      <td>...</td>\n",
              "      <td>...</td>\n",
              "    </tr>\n",
              "    <tr>\n",
              "      <th>9676</th>\n",
              "      <td>1162</td>\n",
              "      <td>tt0120185</td>\n",
              "      <td>2.212290</td>\n",
              "    </tr>\n",
              "    <tr>\n",
              "      <th>31196</th>\n",
              "      <td>1283</td>\n",
              "      <td>tt0185183</td>\n",
              "      <td>2.208998</td>\n",
              "    </tr>\n",
              "    <tr>\n",
              "      <th>9325</th>\n",
              "      <td>1162</td>\n",
              "      <td>tt0118665</td>\n",
              "      <td>2.188134</td>\n",
              "    </tr>\n",
              "    <tr>\n",
              "      <th>92401</th>\n",
              "      <td>1405</td>\n",
              "      <td>tt0185183</td>\n",
              "      <td>2.144603</td>\n",
              "    </tr>\n",
              "    <tr>\n",
              "      <th>10801</th>\n",
              "      <td>1162</td>\n",
              "      <td>tt0185183</td>\n",
              "      <td>2.066579</td>\n",
              "    </tr>\n",
              "  </tbody>\n",
              "</table>\n",
              "<p>101986 rows × 3 columns</p>\n",
              "</div>"
            ],
            "text/plain": [
              "       userId   movie_id  prediction\n",
              "8363     1162  tt0111161    4.373671\n",
              "8822     1162  tt0114814    4.171982\n",
              "49154    1161  tt0111161    4.081222\n",
              "7428     1162  tt0102926    4.070298\n",
              "3831     1162  tt0068646    4.064924\n",
              "...       ...        ...         ...\n",
              "9676     1162  tt0120185    2.212290\n",
              "31196    1283  tt0185183    2.208998\n",
              "9325     1162  tt0118665    2.188134\n",
              "92401    1405  tt0185183    2.144603\n",
              "10801    1162  tt0185183    2.066579\n",
              "\n",
              "[101986 rows x 3 columns]"
            ]
          },
          "metadata": {
            "tags": []
          },
          "execution_count": 28
        }
      ]
    },
    {
      "cell_type": "markdown",
      "metadata": {
        "id": "RIk8PukrHlYF",
        "colab_type": "text"
      },
      "source": [
        "Store predictions"
      ]
    },
    {
      "cell_type": "code",
      "metadata": {
        "id": "2ckIH-qKTOIi",
        "colab_type": "code",
        "colab": {}
      },
      "source": [
        "# TO ERASE. Uncomment if you lost your mind or you know what you are doing (load my previous predictions)\n",
        "# sorted_predictions = pd.read_csv(root_dir + '/predictions.csv')"
      ],
      "execution_count": 0,
      "outputs": []
    },
    {
      "cell_type": "code",
      "metadata": {
        "id": "bpMsZFOENfDX",
        "colab_type": "code",
        "colab": {}
      },
      "source": [
        "sorted_filtered_predictions = sorted_predictions[0:0]\n",
        "for user_id in my_users:\n",
        "  this_user_df = sorted_predictions.loc[sorted_predictions['userId'] == user_id]\n",
        "  # Limit to the 500 first recommendations\n",
        "  this_user_df = this_user_df[0:500]\n",
        "  sorted_filtered_predictions = sorted_filtered_predictions.append(this_user_df)"
      ],
      "execution_count": 0,
      "outputs": []
    },
    {
      "cell_type": "code",
      "metadata": {
        "id": "weg13ANkUEEX",
        "colab_type": "code",
        "outputId": "add94fb0-9cf7-4b70-e90d-afb620b79119",
        "colab": {
          "base_uri": "https://localhost:8080/",
          "height": 34
        }
      },
      "source": [
        "len(sorted_filtered_predictions)"
      ],
      "execution_count": 0,
      "outputs": [
        {
          "output_type": "execute_result",
          "data": {
            "text/plain": [
              "2500"
            ]
          },
          "metadata": {
            "tags": []
          },
          "execution_count": 53
        }
      ]
    },
    {
      "cell_type": "code",
      "metadata": {
        "id": "X0021NASHXHK",
        "colab_type": "code",
        "colab": {}
      },
      "source": [
        "sorted_filtered_predictions.to_csv(index=False, path_or_buf=root_dir + '/predictions.csv')"
      ],
      "execution_count": 0,
      "outputs": []
    },
    {
      "cell_type": "code",
      "metadata": {
        "id": "nyB6hyjD8-z4",
        "colab_type": "code",
        "colab": {}
      },
      "source": [
        ""
      ],
      "execution_count": 0,
      "outputs": []
    },
    {
      "cell_type": "markdown",
      "metadata": {
        "id": "iPBfwKa55KJ0",
        "colab_type": "text"
      },
      "source": [
        "## Interprétation"
      ]
    },
    {
      "cell_type": "code",
      "metadata": {
        "id": "7ox_B03X5MnD",
        "colab_type": "code",
        "outputId": "3be15e6b-7d44-4629-90db-68f060c263a6",
        "colab": {
          "base_uri": "https://localhost:8080/",
          "height": 1000
        }
      },
      "source": [
        "g = ratings.groupby('imdbId')['rating'].count()\n",
        "top_movies = g.sort_values(ascending=False).index.values[:1000]\n",
        "top_movies[:10]\n",
        "learn.get_idx(arr=top_movies, is_item=True)"
      ],
      "execution_count": 0,
      "outputs": [
        {
          "output_type": "execute_result",
          "data": {
            "text/plain": [
              "tensor([ 8202,  8051,  8235,  7303,  7767,  4450,  8354,  7320,  9970,  7856,\n",
              "         8680,  7723,  8322,  5409,  8913,  8694,  6595,  4785, 10480,  8686,\n",
              "         5072,  8844,  6887,  8271,  8636,  5670,  8248,  7354,  3743, 10018,\n",
              "        10449,  8124,  7945,  9709,  9751,  8992,  9419,  7110,  8146,  5638,\n",
              "        10448,  8407,  7806,  7017, 10514,  4047,  6260,  8337,  5157,  9577,\n",
              "         9119,  8328,  8028,  9880,  7730,  8251,  6686, 10447,  9049,  4594,\n",
              "         6401,  5135, 10920,  4171,  9797,  5547,  6922,  8459,  7998,  7868,\n",
              "         9326,  3693,  6947,  8052,  9303,  5866,  8096,  7541,  8703,  4013,\n",
              "         9644,  9791,  9378,  6927,  8378,  8250,  8590,  8137, 12508,  7716,\n",
              "         3182, 10715,  3589,  7681,  8573,  4325,  9587, 10020,  6508, 10165,\n",
              "         9932, 10956,   968,  8476,  9110, 11626,  8454, 10159, 11252, 10793,\n",
              "        10612,  8170,  8386,  2641,   826,  4884,  7999, 10370,  8706,  4600,\n",
              "         5918,  9636,  9581, 12667,  8755,  8926,  8768,  8507,  4147, 11628,\n",
              "         9190,  6159,  6828, 11653,  9459,  6571,  8526,  6901,  5562,  6950,\n",
              "         5677,  9685,  9638,  9206,  8400,  8638,  6037, 14530,  7063,  8308,\n",
              "         4658,  6628,  8205,  5481, 10217,  7817,  6049,  9655, 11509, 12392,\n",
              "         9253,  6351,  4757, 10719,  6856,  2387,  6412,  6592,  9083,  6353,\n",
              "         8565,  9013,  7828,  7690, 10665, 10344, 13126,  9316, 13229,  7751,\n",
              "        11351,  4740,  9295, 10621,  7624,  7696,   905,  8885,  9231, 11585,\n",
              "         7920,   706,  8315,  6206,  1816,  8368, 10905,  6584, 11263, 10293,\n",
              "         3117,  8980,  8147, 11168,  9651,  7830,  9389,  9948,  9656,  8010,\n",
              "        10620,  8031,  9803,  9056,  6677,  5640,  8121,  9666,  5271,  9719,\n",
              "         8228, 12375,  6895,  6006, 10307,  8000,  8830, 12628, 13565, 12012,\n",
              "        10179, 10766,  4519,  3329,  2282, 10962,  9550,  9311,  9315,  6266,\n",
              "         8828,  6312,  4348,  3989,  9116,  7929,  9708,  2601,  7905,  3939,\n",
              "         4083,  7433,  4575,  4305,  8383,  6257,  7901,  9400, 12125,  8506,\n",
              "        10592,  2957,  7965, 12086,  8817,  9331, 14059,  7847,  9672,  8772,\n",
              "         7596,  6709,  9669,  8165,  9170,  4361,  6273,  5676,   782, 13650,\n",
              "         9250,  2774,  9042, 17289,  2217,  1239,  8404,  7807,  2917,  6852,\n",
              "        10567, 11027,  4181,  9894, 11325,  9921,  9991,  7511,  9240,  7682,\n",
              "         8648,  9740,  4941, 12212,  9071,  7356, 13114,  7743,  5618,  3869,\n",
              "         9214, 10352,  9783,  7774,  6038,  6706,  7607,  2026,  8629,  8608,\n",
              "        10679,  8863, 12387,  5337,  9714,  7366,  8623,  3268, 12423,  7995,\n",
              "         7898,  8465,  6663,  2037,  7638,  8369,   876,  9865, 11613,  3500,\n",
              "         9026,  8022,  8504, 15612,  2558, 13279,   927,  7479,  7565,  9804,\n",
              "        12299,  7873, 11275,  6651, 11987,   850,  7413,  8429,  8445,  5855,\n",
              "        13111,  9545,  8377,  7322, 13008,  7405,  8837, 11283,  9664, 14249,\n",
              "         9578,  8484,  8331, 11647,  9264,  8434,  9269,  8160,  9107,  9365,\n",
              "         3090, 10845,  9649,  5627,  9790, 10237,  6168,  1826,  8196, 10544,\n",
              "         8219, 10184, 14380,  6289, 10971,  9032, 14730,  5939,  9924,  2756,\n",
              "         8083,  5551,  2650,  8171,  8579,  4550,  9786,  2622,  9173,  7308,\n",
              "         7364, 13759,  6672,  5849,  8246,  2303, 14135,  9277,  6138,  7858,\n",
              "         5628,  1543,  5687,  3979, 11945,  4498, 11456,  9252, 14648, 14520,\n",
              "         8943,  5420,  8676,  7843,  9108,  8564,  7946, 12506,  5722,  8078,\n",
              "         9782,  5490, 11598,  8130, 11262,  8903, 11530,  9637,  7383,  5648,\n",
              "         1677, 11041,  9050,  8385, 11138,  5294,  9078,  1888,  8108, 12576,\n",
              "         8089,  8923,  7481,  9818,  5923,  6926, 12759,  5178,  9443, 10571,\n",
              "         2780,  4713,  4870, 14923,  8048,  2434,  9795,  9950, 12123,  8355,\n",
              "        13610,  9096,  9432,  8353, 12614, 11644, 11759, 10678,  6152,  3080,\n",
              "        13331, 12937,  7005, 12393,  9749,  8397,  9086,  8555, 10034, 10963,\n",
              "        16055,  8154,  6572, 10439, 15888, 12606,  5239,  5885,  2234,  6992,\n",
              "        13604, 13184,  7752,  7130,  8652,  9022, 12363,  6490,  5528,  2570,\n",
              "         6772, 10887,  5450,  9197,   910,  4664,  3137,  9907, 11411,  7184,\n",
              "        12000,  9070,  1479,  4806,  7523, 10064, 10113,  5033,  4902,  8742,\n",
              "         8673,  7673,  9823,  7485,  9810,  4982, 13317,  8411, 12346,  5389,\n",
              "        10537,  8797,  5287,  7203, 12081,  4763, 10896,  4231,  8716,  9725,\n",
              "        10619, 12931,  9972, 13448,  8342, 10133,  9928, 10045, 12147,  6600,\n",
              "         2507,  3729,  8375,  8965,  5964, 10119,  5625, 12524,  6336,  3606,\n",
              "         8548, 10041,  9066, 13472, 11450, 11491, 10017,  9771,  6638,  6660,\n",
              "         9101, 11533,  8210,  5567,  8688,  3514,  9763,  9736,  7093,  9139,\n",
              "         7721,  3257,  9674, 10366, 10928,  5958,  3613,  9733,  7692,  4895,\n",
              "         9504,  4667,  9960,  9509, 10980,  5152,  8826,  5088, 16367,  5290,\n",
              "         9721, 10134,  7978, 10054, 13088, 10921, 10667, 13259,  8831,  8796,\n",
              "        10507,  8610,  5412,  6148, 10635,  8141, 13916,  3438, 10651,  1544,\n",
              "         5016,  7528,  5168,  7285,  2480,  6395,  5413,  9871,  7178, 10778,\n",
              "        15124,  7853,  7162,  7209,  7106,  9002, 13177,  7443, 16283,  7575,\n",
              "         9785,  4930,  3275,  8107, 10947, 14162,  8072,  9710,  8468, 11386,\n",
              "         8053,  7860,  6228,  9667, 10201, 13964,  9962,  9355,  7553,  6484,\n",
              "         8023,  5592,  6794,  9682, 11956,  8964, 13049,  6766, 12152,  3835,\n",
              "         8234, 11078, 10996,   963, 10381,  8640,  7218,  6010,  2535, 10000,\n",
              "         2645,  7133, 10978, 12975, 10189, 10172,  8422, 11001,  3094,  7480,\n",
              "         5570, 11023,  8661,  8519,  9851,  6834,  1086,  1741,  6253,  6367,\n",
              "        14265,  8270, 13490,  6579, 10216,  4113, 11502,  9513,  6203,  9533,\n",
              "         9314, 10085, 10014,  6932,  7288,  4650,  7563,  3937,  7153,  8853,\n",
              "         7452,  4958, 11216,  8617, 12305,  9291,  4673, 12271, 10653,  2790,\n",
              "         4784, 10363,   875, 10431,  9920,  9274, 12882, 11150, 14709, 10713,\n",
              "        15307,  6276, 13176, 10526,   471,  5326,  4950,  6855,  1456,  6021,\n",
              "         9575,  7903, 12895,  1606,  4604, 11697, 16654,  6048,  7683,  9003,\n",
              "        13831,  2302,  8440, 10166, 13202, 10636, 13640, 10294, 14172,  1529,\n",
              "         9006,  8816, 11829,  3271, 11551,  4984,  3384,  8297,  8762,  1556,\n",
              "         9834,  8862, 13110,  7440,  9743, 11784,  7707, 12986,  8492,  5614,\n",
              "         7379,  7950,  5236,  8232,  6989, 12757,  5714,  7594,  1764,  1745,\n",
              "         9081,  8704,  1922,  9713,  6894, 10346,  7653, 13533,  8882, 12607,\n",
              "        10334, 13150,  9137,  6634,  5735,  4520,  8986, 12366,  9542,  9990,\n",
              "        10609, 12821,  9263,  2850,  9930, 13795,  8011,  8580,  6731, 12425,\n",
              "         8644, 11306, 13921, 12692,  8373,  9657,  6112,  5843, 15820, 12918,\n",
              "        14074, 16327,  5953,  9798,  9612,  9488,  7336,  9059,  3571, 12788,\n",
              "         5392,  7886,  9061,  9357, 13603,   803,  9796, 15935,  6728, 14327,\n",
              "         1812,  1787,  9179, 13426,  3597,  6553,  9747, 12950,  5605,  1217,\n",
              "         5776,  5672,  7545,  8674,  7731, 11333,  8150,  3864, 10640,  5751,\n",
              "         7015, 11699,  9984, 17674,  7863,   202,  8919, 13674, 14455,  6212,\n",
              "        10375, 10445, 11634, 13398, 11632,  8751, 11336,  8700, 10330,  5689,\n",
              "          455, 14253,  8293, 11496, 10487, 12191, 10140,  9417,  7793,  8933,\n",
              "        16438,  8983,  3340,  5988,  5701,  7768, 12948,  2697, 14542, 11995,\n",
              "         8338,  9541,  7611, 12939,  9641, 11346,  9540,  4293,  8266,  4541,\n",
              "         5164,  8732,  6889,  5881,  1820, 12987,  4060,  7139,  1397,  4698,\n",
              "        15694,  2325,  6071, 13310, 12887,  6525,  8098,  9765,  5921, 11105,\n",
              "         6827, 10768,  8836,  8218,  8441, 14979, 16992,  6472, 15038,  1605,\n",
              "        15669,  5171,  7917,  4286,  8870,  9254,  2396, 12543,  9133, 12286,\n",
              "         7059,  9230, 10670, 11269,  9793,  5495, 13142, 10637,  5588, 10513])"
            ]
          },
          "metadata": {
            "tags": []
          },
          "execution_count": 55
        }
      ]
    },
    {
      "cell_type": "markdown",
      "metadata": {
        "id": "iGG7PA_U6pmh",
        "colab_type": "text"
      },
      "source": [
        "### Movie bias"
      ]
    },
    {
      "cell_type": "code",
      "metadata": {
        "id": "QhWFx1lV6rlc",
        "colab_type": "code",
        "outputId": "6b1c0e7d-05c7-4d7b-be66-415fe08cab3e",
        "colab": {
          "base_uri": "https://localhost:8080/",
          "height": 34
        }
      },
      "source": [
        "movie_bias = learn.bias(top_movies, is_item=True)\n",
        "movie_bias.shape"
      ],
      "execution_count": 0,
      "outputs": [
        {
          "output_type": "execute_result",
          "data": {
            "text/plain": [
              "torch.Size([1000])"
            ]
          },
          "metadata": {
            "tags": []
          },
          "execution_count": 34
        }
      ]
    },
    {
      "cell_type": "code",
      "metadata": {
        "id": "qqkkZ-H26wi1",
        "colab_type": "code",
        "colab": {}
      },
      "source": [
        "mean_ratings = ratings.groupby('imdbId')['rating'].mean()\n",
        "movie_ratings = [(b, i, mean_ratings.loc[i]) for i,b in zip(top_movies,movie_bias)]"
      ],
      "execution_count": 0,
      "outputs": []
    },
    {
      "cell_type": "code",
      "metadata": {
        "id": "SpiP-X036zSA",
        "colab_type": "code",
        "colab": {}
      },
      "source": [
        "item0 = lambda o:o[0]"
      ],
      "execution_count": 0,
      "outputs": []
    },
    {
      "cell_type": "code",
      "metadata": {
        "id": "mm6ayXno61Ta",
        "colab_type": "code",
        "outputId": "fa6b2a62-bf35-4357-9c44-2588cbdc35e0",
        "colab": {
          "base_uri": "https://localhost:8080/",
          "height": 272
        }
      },
      "source": [
        "sorted(movie_ratings, key=item0)[:15]"
      ],
      "execution_count": 0,
      "outputs": [
        {
          "output_type": "execute_result",
          "data": {
            "text/plain": [
              "[(tensor(-0.3271), 'tt0120179', 1.8675918979744937),\n",
              " (tensor(-0.2785), 'tt0108255', 2.0309888579387185),\n",
              " (tensor(-0.2384), 'tt0118615', 2.0959774170783345),\n",
              " (tensor(-0.1942), 'tt0118688', 2.1801339285714287),\n",
              " (tensor(-0.1860), 'tt0120891', 2.320194384449244),\n",
              " (tensor(-0.1821), 'tt0110989', 2.39177657098526),\n",
              " (tensor(-0.1778), 'tt0114436', 2.2511061946902653),\n",
              " (tensor(-0.1651), 'tt0109813', 2.4488286066584464),\n",
              " (tensor(-0.1608), 'tt0120685', 2.2878048780487803),\n",
              " (tensor(-0.1584), 'tt0117765', 2.416131792896876),\n",
              " (tensor(-0.1553), 'tt0112281', 2.6078507578701906),\n",
              " (tensor(-0.1448), 'tt0242423', 2.4435674822415154),\n",
              " (tensor(-0.1400), 'tt0134084', 2.455784574468085),\n",
              " (tensor(-0.1356), 'tt0106598', 2.582474226804124),\n",
              " (tensor(-0.1298), 'tt0120738', 2.5448038176033934)]"
            ]
          },
          "metadata": {
            "tags": []
          },
          "execution_count": 39
        }
      ]
    },
    {
      "cell_type": "code",
      "metadata": {
        "id": "dTgAz7fA63Cm",
        "colab_type": "code",
        "outputId": "1e4eabc7-beeb-4ca5-cb08-ef48a91e034e",
        "colab": {
          "base_uri": "https://localhost:8080/",
          "height": 272
        }
      },
      "source": [
        "sorted(movie_ratings, key=lambda o: o[0], reverse=True)[:15]"
      ],
      "execution_count": 0,
      "outputs": [
        {
          "output_type": "execute_result",
          "data": {
            "text/plain": [
              "[(tensor(0.9740), 'tt0111161', 4.450886075949367),\n",
              " (tensor(0.8071), 'tt0108052', 4.307224122841912),\n",
              " (tensor(0.8068), 'tt0114814', 4.347230519757617),\n",
              " (tensor(0.7556), 'tt0102926', 4.180525373897482),\n",
              " (tensor(0.7081), 'tt0068646', 4.347281553398059),\n",
              " (tensor(0.6880), 'tt0076759', 4.192349886637899),\n",
              " (tensor(0.6812), 'tt0106977', 3.97530262409619),\n",
              " (tensor(0.6743), 'tt0109830', 4.0296094459582195),\n",
              " (tensor(0.6675), 'tt0110912', 4.16751481769742),\n",
              " (tensor(0.6671), 'tt0112573', 4.042618530447157),\n",
              " (tensor(0.6562), 'tt0082971', 4.21310420878515),\n",
              " (tensor(0.6410), 'tt0133093', 4.177908151371513),\n",
              " (tensor(0.6124), 'tt0093779', 4.177039941190885),\n",
              " (tensor(0.6027), 'tt0073486', 4.255806148476306),\n",
              " (tensor(0.5967), 'tt0114369', 4.059125723893144)]"
            ]
          },
          "metadata": {
            "tags": []
          },
          "execution_count": 40
        }
      ]
    },
    {
      "cell_type": "markdown",
      "metadata": {
        "id": "rq_XqtHT65y-",
        "colab_type": "text"
      },
      "source": [
        "### Movie weights"
      ]
    },
    {
      "cell_type": "code",
      "metadata": {
        "id": "aevSOyYx6-pA",
        "colab_type": "code",
        "outputId": "df20d5ac-bfd9-40a7-8155-e26b5a453d04",
        "colab": {
          "base_uri": "https://localhost:8080/",
          "height": 34
        }
      },
      "source": [
        "movie_w = learn.weight(top_movies, is_item=True)\n",
        "movie_w.shape"
      ],
      "execution_count": 0,
      "outputs": [
        {
          "output_type": "execute_result",
          "data": {
            "text/plain": [
              "torch.Size([1000, 40])"
            ]
          },
          "metadata": {
            "tags": []
          },
          "execution_count": 41
        }
      ]
    },
    {
      "cell_type": "code",
      "metadata": {
        "id": "H1sqCN1A7ApW",
        "colab_type": "code",
        "outputId": "e0c44033-0a1f-4cb2-f57d-f26be5485080",
        "colab": {
          "base_uri": "https://localhost:8080/",
          "height": 34
        }
      },
      "source": [
        "movie_pca = movie_w.pca(3)\n",
        "movie_pca.shape"
      ],
      "execution_count": 0,
      "outputs": [
        {
          "output_type": "execute_result",
          "data": {
            "text/plain": [
              "torch.Size([1000, 3])"
            ]
          },
          "metadata": {
            "tags": []
          },
          "execution_count": 42
        }
      ]
    },
    {
      "cell_type": "code",
      "metadata": {
        "id": "9kRh2oLu7YGX",
        "colab_type": "code",
        "colab": {}
      },
      "source": [
        "fac0,fac1,fac2 = movie_pca.t()\n",
        "movie_comp = [(f, i) for f,i in zip(fac0, top_movies)]"
      ],
      "execution_count": 0,
      "outputs": []
    },
    {
      "cell_type": "code",
      "metadata": {
        "id": "00pgUmT37wO8",
        "colab_type": "code",
        "outputId": "b7220c1b-8a8b-4f0e-95f0-3427d95a4cb9",
        "colab": {
          "base_uri": "https://localhost:8080/",
          "height": 187
        }
      },
      "source": [
        "sorted(movie_comp, key=itemgetter(0), reverse=True)[:10]"
      ],
      "execution_count": 0,
      "outputs": [
        {
          "output_type": "execute_result",
          "data": {
            "text/plain": [
              "[(tensor(1.6897), 'tt0116629'),\n",
              " (tensor(1.6229), 'tt0113957'),\n",
              " (tensor(1.5396), 'tt0112715'),\n",
              " (tensor(1.5339), 'tt0117998'),\n",
              " (tensor(1.5168), 'tt0120591'),\n",
              " (tensor(1.5067), 'tt0116213'),\n",
              " (tensor(1.5042), 'tt0114781'),\n",
              " (tensor(1.4992), 'tt0113071'),\n",
              " (tensor(1.4823), 'tt0120179'),\n",
              " (tensor(1.4789), 'tt0120891')]"
            ]
          },
          "metadata": {
            "tags": []
          },
          "execution_count": 44
        }
      ]
    },
    {
      "cell_type": "code",
      "metadata": {
        "id": "9hbv5CbE7yMQ",
        "colab_type": "code",
        "outputId": "f468bf06-8351-4fb8-df9e-bd4ee5bcdbe6",
        "colab": {
          "base_uri": "https://localhost:8080/",
          "height": 187
        }
      },
      "source": [
        "sorted(movie_comp, key=itemgetter(0))[:10]"
      ],
      "execution_count": 0,
      "outputs": [
        {
          "output_type": "execute_result",
          "data": {
            "text/plain": [
              "[(tensor(-1.6507), 'tt0057012'),\n",
              " (tensor(-1.5099), 'tt0066921'),\n",
              " (tensor(-1.4900), 'tt0033467'),\n",
              " (tensor(-1.4664), 'tt0075686'),\n",
              " (tensor(-1.4633), 'tt0041959'),\n",
              " (tensor(-1.4522), 'tt0071315'),\n",
              " (tensor(-1.4105), 'tt0047478'),\n",
              " (tensor(-1.3801), 'tt0078788'),\n",
              " (tensor(-1.3744), 'tt0081398'),\n",
              " (tensor(-1.3258), 'tt0043014')]"
            ]
          },
          "metadata": {
            "tags": []
          },
          "execution_count": 45
        }
      ]
    },
    {
      "cell_type": "code",
      "metadata": {
        "id": "_takWn8M709a",
        "colab_type": "code",
        "colab": {}
      },
      "source": [
        "movie_comp = [(f, i) for f,i in zip(fac1, top_movies)]"
      ],
      "execution_count": 0,
      "outputs": []
    },
    {
      "cell_type": "code",
      "metadata": {
        "id": "x64EDjMG728W",
        "colab_type": "code",
        "outputId": "841f7e7d-cb42-40cd-b80f-cd633a8671ce",
        "colab": {
          "base_uri": "https://localhost:8080/",
          "height": 187
        }
      },
      "source": [
        "sorted(movie_comp, key=itemgetter(0), reverse=True)[:10]"
      ],
      "execution_count": 0,
      "outputs": [
        {
          "output_type": "execute_result",
          "data": {
            "text/plain": [
              "[(tensor(1.5358), 'tt0137523'),\n",
              " (tensor(1.0802), 'tt0110912'),\n",
              " (tensor(1.0799), 'tt0401792'),\n",
              " (tensor(0.9999), 'tt0120669'),\n",
              " (tensor(0.9816), 'tt0133093'),\n",
              " (tensor(0.9740), 'tt0208092'),\n",
              " (tensor(0.9073), 'tt0110632'),\n",
              " (tensor(0.8860), 'tt0119081'),\n",
              " (tensor(0.8842), 'tt0120735'),\n",
              " (tensor(0.8838), 'tt0468569')]"
            ]
          },
          "metadata": {
            "tags": []
          },
          "execution_count": 47
        }
      ]
    },
    {
      "cell_type": "code",
      "metadata": {
        "id": "got1C77O75e5",
        "colab_type": "code",
        "outputId": "e958c09e-7c45-40d7-f206-f96c20838614",
        "colab": {
          "base_uri": "https://localhost:8080/",
          "height": 187
        }
      },
      "source": [
        "sorted(movie_comp, key=itemgetter(0))[:10]"
      ],
      "execution_count": 0,
      "outputs": [
        {
          "output_type": "execute_result",
          "data": {
            "text/plain": [
              "[(tensor(-1.5668), 'tt0112431'),\n",
              " (tensor(-1.4609), 'tt0101414'),\n",
              " (tensor(-1.3161), 'tt0029583'),\n",
              " (tensor(-1.2636), 'tt0032138'),\n",
              " (tensor(-1.2617), 'tt0059742'),\n",
              " (tensor(-1.2471), 'tt0108160'),\n",
              " (tensor(-1.1695), 'tt0114388'),\n",
              " (tensor(-1.1450), 'tt0056592'),\n",
              " (tensor(-1.0990), 'tt0138097'),\n",
              " (tensor(-1.0873), 'tt0058331')]"
            ]
          },
          "metadata": {
            "tags": []
          },
          "execution_count": 48
        }
      ]
    },
    {
      "cell_type": "code",
      "metadata": {
        "id": "XrobuP5L7__r",
        "colab_type": "code",
        "outputId": "24a7bfe0-8b84-4aed-d8da-b0f940ca5dae",
        "colab": {
          "base_uri": "https://localhost:8080/",
          "height": 863
        }
      },
      "source": [
        "idxs = np.random.choice(len(top_movies), 50, replace=False)\n",
        "idxs = list(range(50))\n",
        "X = fac0[idxs]\n",
        "Y = fac2[idxs]\n",
        "plt.figure(figsize=(15,15))\n",
        "plt.scatter(X, Y)\n",
        "for i, x, y in zip(top_movies[idxs], X, Y):\n",
        "    plt.text(x,y,i, color=np.random.rand(3)*0.7, fontsize=11)\n",
        "plt.show()"
      ],
      "execution_count": 0,
      "outputs": [
        {
          "output_type": "display_data",
          "data": {
            "image/png": "[encoded data removed]",
            "text/plain": [
              "<Figure size 1080x1080 with 1 Axes>"
            ]
          },
          "metadata": {
            "tags": []
          }
        }
      ]
    },
    {
      "cell_type": "code",
      "metadata": {
        "id": "OXtyrwuA-KFJ",
        "colab_type": "code",
        "colab": {}
      },
      "source": [
        ""
      ],
      "execution_count": 0,
      "outputs": []
    }
  ]
}